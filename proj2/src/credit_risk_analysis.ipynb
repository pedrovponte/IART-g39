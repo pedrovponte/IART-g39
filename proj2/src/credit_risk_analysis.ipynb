{
 "cells": [
  {
   "cell_type": "markdown",
   "metadata": {},
   "source": [
    "# Credit Risk Analysis"
   ]
  },
  {
   "cell_type": "markdown",
   "metadata": {},
   "source": [
    "Projeto desenvolvido por:\n",
    "* Mariana Ramos - up201806869\n",
    "* Pedro Ferreira - up201806506\n",
    "* Pedro Ponte - up201809694"
   ]
  },
  {
   "cell_type": "markdown",
   "metadata": {},
   "source": [
    "## Table of contents\n",
    "\n",
    "1. [Introduction](#Introduction)\n",
    "\n",
    "2. [Required Libraries](#Required-Libraries)\n",
    "\n",
    "3. [The Problem Domain](#The-Problem-Domain)\n",
    "\n",
    "4. [Step 1: Answering the question](#Step-1:-Answering-the-question)\n",
    "\n",
    "5. [Step 2: Checking the data](#Step-2:-Checking-the-data)"
   ]
  },
  {
   "cell_type": "markdown",
   "metadata": {},
   "source": [
    "## Introduction\n",
    "\n",
    "[[ go back to the top ]](#Table-of-contents)"
   ]
  },
  {
   "cell_type": "markdown",
   "metadata": {},
   "source": [
    "## Required libraries\n",
    "\n",
    "[[ go back to the top ]](#Table-of-contents)\n",
    "\n",
    "If you don't have Python on your computer, you can use the [Anaconda Python distribution](http://continuum.io/downloads) to install most of the Python packages you need. Anaconda provides a simple double-click installer for your convenience.\n",
    "\n",
    "This notebook uses several Python packages that come standard with the Anaconda Python distribution. The primary libraries that we'll be using are:\n",
    "\n",
    "* **NumPy**: Provides a fast numerical array structure and helper functions.\n",
    "* **pandas**: Provides a DataFrame structure to store data in memory and work with it easily and efficiently.\n",
    "* **scikit-learn**: The essential Machine Learning package in Python.\n",
    "* **matplotlib**: Basic plotting library in Python; most other Python plotting libraries are built on top of it.\n",
    "* **Seaborn**: Advanced statistical plotting library.\n",
    "\n",
    "To make sure you have all of the packages you need, install them with `conda`:\n",
    "\n",
    "    conda install numpy pandas scikit-learn matplotlib seaborn\n",
    "    \n",
    "    conda install -c conda-forge watermark\n",
    "\n",
    "`conda` may ask you to update some of them if you don't have the most recent version. Allow it to do so."
   ]
  },
  {
   "cell_type": "markdown",
   "metadata": {},
   "source": [
    "## The Problem Domain\n",
    "\n",
    "[[ go back to the top ]](#Table-of-contents)"
   ]
  },
  {
   "cell_type": "markdown",
   "metadata": {},
   "source": [
    "## Step 1: Answering the question\n",
    "\n",
    "[[ go back to the top ]](#Table-of-contents)\n",
    "\n",
    "The first step to any data analysis project is to define the question or problem we're looking to solve, and to define a measure (or set of measures) for our success at solving that task. The data analysis checklist has us answer a handful of questions to accomplish that, so let's work through those questions.\n",
    "\n",
    ">Did you specify the type of data analytic question (e.g. exploration, association causality) before touching the data?\n",
    "\n",
    "We're trying to design a predictive model in order to evaluate the credit risk of a given loan and decide whether the loan should be granted or not.\n",
    "\n",
    ">Did you define the metric for success before beginning?\n",
    "\n",
    "Let's do that now. Since we're performing classification, we can use [accuracy](https://en.wikipedia.org/wiki/Accuracy_and_precision) — the fraction of correctly classified loans — to quantify how well our model is performing. The accuracy achieved should be, at least, \n",
    "\n",
    ">Did you understand the context for the question and the scientific or business application?\n",
    "\n",
    "TODO\n",
    "\n",
    ">Did you record the experimental design?\n",
    "\n",
    "TODO\n",
    "\n",
    ">Did you consider whether the question could be answered with the available data?\n",
    "\n",
    "TODO\n",
    "\n",
    "<hr />"
   ]
  },
  {
   "cell_type": "markdown",
   "metadata": {},
   "source": [
    "## Step 2: Checking the data\n",
    "\n",
    "[[ go back to the top ]](#Table-of-contents)\n",
    "\n",
    "In order to be able to make conclusions and reach our goal, we will need to extract and study the data. To do so, we have to import the panda library and extract the information to be stored in a variable so we can work with it. "
   ]
  },
  {
   "cell_type": "code",
   "execution_count": 101,
   "metadata": {},
   "outputs": [],
   "source": [
    "import pandas as pd\n",
    "import seaborn as sb\n",
    "import matplotlib.pyplot as plt\n",
    "\n",
    "credit_data = pd.read_csv('data.csv', low_memory=False)"
   ]
  },
  {
   "cell_type": "code",
   "execution_count": 102,
   "metadata": {},
   "outputs": [
    {
     "name": "stdout",
     "output_type": "stream",
     "text": [
      "Number of rows:  855969\n",
      "Number of columns:  73\n"
     ]
    }
   ],
   "source": [
    "# data frame shape\n",
    "print('Number of rows: ', credit_data.shape[0])\n",
    "print('Number of columns: ', credit_data.shape[1])"
   ]
  },
  {
   "cell_type": "markdown",
   "metadata": {},
   "source": [
    "As we can see the data file has a total of 855969 different results and a total of 73 evaluation criteria. The second parameter of the read_csv function makes all the empty fields be filled with NA so we can easily analyse missing values in the future."
   ]
  },
  {
   "cell_type": "markdown",
   "metadata": {},
   "source": [
    "We can start by reading the data into a pandas DataFrame to see if is everything alright."
   ]
  },
  {
   "cell_type": "code",
   "execution_count": 103,
   "metadata": {
    "scrolled": true
   },
   "outputs": [
    {
     "data": {
      "text/html": [
       "<div>\n",
       "<style scoped>\n",
       "    .dataframe tbody tr th:only-of-type {\n",
       "        vertical-align: middle;\n",
       "    }\n",
       "\n",
       "    .dataframe tbody tr th {\n",
       "        vertical-align: top;\n",
       "    }\n",
       "\n",
       "    .dataframe thead th {\n",
       "        text-align: right;\n",
       "    }\n",
       "</style>\n",
       "<table border=\"1\" class=\"dataframe\">\n",
       "  <thead>\n",
       "    <tr style=\"text-align: right;\">\n",
       "      <th></th>\n",
       "      <th>id</th>\n",
       "      <th>member_id</th>\n",
       "      <th>loan_amnt</th>\n",
       "      <th>funded_amnt</th>\n",
       "      <th>funded_amnt_inv</th>\n",
       "      <th>term</th>\n",
       "      <th>int_rate</th>\n",
       "      <th>installment</th>\n",
       "      <th>grade</th>\n",
       "      <th>sub_grade</th>\n",
       "      <th>...</th>\n",
       "      <th>il_util</th>\n",
       "      <th>open_rv_12m</th>\n",
       "      <th>open_rv_24m</th>\n",
       "      <th>max_bal_bc</th>\n",
       "      <th>all_util</th>\n",
       "      <th>total_rev_hi_lim</th>\n",
       "      <th>inq_fi</th>\n",
       "      <th>total_cu_tl</th>\n",
       "      <th>inq_last_12m</th>\n",
       "      <th>default_ind</th>\n",
       "    </tr>\n",
       "  </thead>\n",
       "  <tbody>\n",
       "    <tr>\n",
       "      <th>0</th>\n",
       "      <td>1077501</td>\n",
       "      <td>1296599</td>\n",
       "      <td>5000</td>\n",
       "      <td>5000</td>\n",
       "      <td>4975.0</td>\n",
       "      <td>36 months</td>\n",
       "      <td>10.65</td>\n",
       "      <td>162.87</td>\n",
       "      <td>B</td>\n",
       "      <td>B2</td>\n",
       "      <td>...</td>\n",
       "      <td>NaN</td>\n",
       "      <td>NaN</td>\n",
       "      <td>NaN</td>\n",
       "      <td>NaN</td>\n",
       "      <td>NaN</td>\n",
       "      <td>NaN</td>\n",
       "      <td>NaN</td>\n",
       "      <td>NaN</td>\n",
       "      <td>NaN</td>\n",
       "      <td>0</td>\n",
       "    </tr>\n",
       "    <tr>\n",
       "      <th>1</th>\n",
       "      <td>1077430</td>\n",
       "      <td>1314167</td>\n",
       "      <td>2500</td>\n",
       "      <td>2500</td>\n",
       "      <td>2500.0</td>\n",
       "      <td>60 months</td>\n",
       "      <td>15.27</td>\n",
       "      <td>59.83</td>\n",
       "      <td>C</td>\n",
       "      <td>C4</td>\n",
       "      <td>...</td>\n",
       "      <td>NaN</td>\n",
       "      <td>NaN</td>\n",
       "      <td>NaN</td>\n",
       "      <td>NaN</td>\n",
       "      <td>NaN</td>\n",
       "      <td>NaN</td>\n",
       "      <td>NaN</td>\n",
       "      <td>NaN</td>\n",
       "      <td>NaN</td>\n",
       "      <td>1</td>\n",
       "    </tr>\n",
       "    <tr>\n",
       "      <th>2</th>\n",
       "      <td>1077175</td>\n",
       "      <td>1313524</td>\n",
       "      <td>2400</td>\n",
       "      <td>2400</td>\n",
       "      <td>2400.0</td>\n",
       "      <td>36 months</td>\n",
       "      <td>15.96</td>\n",
       "      <td>84.33</td>\n",
       "      <td>C</td>\n",
       "      <td>C5</td>\n",
       "      <td>...</td>\n",
       "      <td>NaN</td>\n",
       "      <td>NaN</td>\n",
       "      <td>NaN</td>\n",
       "      <td>NaN</td>\n",
       "      <td>NaN</td>\n",
       "      <td>NaN</td>\n",
       "      <td>NaN</td>\n",
       "      <td>NaN</td>\n",
       "      <td>NaN</td>\n",
       "      <td>0</td>\n",
       "    </tr>\n",
       "    <tr>\n",
       "      <th>3</th>\n",
       "      <td>1076863</td>\n",
       "      <td>1277178</td>\n",
       "      <td>10000</td>\n",
       "      <td>10000</td>\n",
       "      <td>10000.0</td>\n",
       "      <td>36 months</td>\n",
       "      <td>13.49</td>\n",
       "      <td>339.31</td>\n",
       "      <td>C</td>\n",
       "      <td>C1</td>\n",
       "      <td>...</td>\n",
       "      <td>NaN</td>\n",
       "      <td>NaN</td>\n",
       "      <td>NaN</td>\n",
       "      <td>NaN</td>\n",
       "      <td>NaN</td>\n",
       "      <td>NaN</td>\n",
       "      <td>NaN</td>\n",
       "      <td>NaN</td>\n",
       "      <td>NaN</td>\n",
       "      <td>0</td>\n",
       "    </tr>\n",
       "    <tr>\n",
       "      <th>4</th>\n",
       "      <td>1075358</td>\n",
       "      <td>1311748</td>\n",
       "      <td>3000</td>\n",
       "      <td>3000</td>\n",
       "      <td>3000.0</td>\n",
       "      <td>60 months</td>\n",
       "      <td>12.69</td>\n",
       "      <td>67.79</td>\n",
       "      <td>B</td>\n",
       "      <td>B5</td>\n",
       "      <td>...</td>\n",
       "      <td>NaN</td>\n",
       "      <td>NaN</td>\n",
       "      <td>NaN</td>\n",
       "      <td>NaN</td>\n",
       "      <td>NaN</td>\n",
       "      <td>NaN</td>\n",
       "      <td>NaN</td>\n",
       "      <td>NaN</td>\n",
       "      <td>NaN</td>\n",
       "      <td>0</td>\n",
       "    </tr>\n",
       "    <tr>\n",
       "      <th>5</th>\n",
       "      <td>1075269</td>\n",
       "      <td>1311441</td>\n",
       "      <td>5000</td>\n",
       "      <td>5000</td>\n",
       "      <td>5000.0</td>\n",
       "      <td>36 months</td>\n",
       "      <td>7.90</td>\n",
       "      <td>156.46</td>\n",
       "      <td>A</td>\n",
       "      <td>A4</td>\n",
       "      <td>...</td>\n",
       "      <td>NaN</td>\n",
       "      <td>NaN</td>\n",
       "      <td>NaN</td>\n",
       "      <td>NaN</td>\n",
       "      <td>NaN</td>\n",
       "      <td>NaN</td>\n",
       "      <td>NaN</td>\n",
       "      <td>NaN</td>\n",
       "      <td>NaN</td>\n",
       "      <td>0</td>\n",
       "    </tr>\n",
       "    <tr>\n",
       "      <th>6</th>\n",
       "      <td>1069639</td>\n",
       "      <td>1304742</td>\n",
       "      <td>7000</td>\n",
       "      <td>7000</td>\n",
       "      <td>7000.0</td>\n",
       "      <td>60 months</td>\n",
       "      <td>15.96</td>\n",
       "      <td>170.08</td>\n",
       "      <td>C</td>\n",
       "      <td>C5</td>\n",
       "      <td>...</td>\n",
       "      <td>NaN</td>\n",
       "      <td>NaN</td>\n",
       "      <td>NaN</td>\n",
       "      <td>NaN</td>\n",
       "      <td>NaN</td>\n",
       "      <td>NaN</td>\n",
       "      <td>NaN</td>\n",
       "      <td>NaN</td>\n",
       "      <td>NaN</td>\n",
       "      <td>0</td>\n",
       "    </tr>\n",
       "    <tr>\n",
       "      <th>7</th>\n",
       "      <td>1072053</td>\n",
       "      <td>1288686</td>\n",
       "      <td>3000</td>\n",
       "      <td>3000</td>\n",
       "      <td>3000.0</td>\n",
       "      <td>36 months</td>\n",
       "      <td>18.64</td>\n",
       "      <td>109.43</td>\n",
       "      <td>E</td>\n",
       "      <td>E1</td>\n",
       "      <td>...</td>\n",
       "      <td>NaN</td>\n",
       "      <td>NaN</td>\n",
       "      <td>NaN</td>\n",
       "      <td>NaN</td>\n",
       "      <td>NaN</td>\n",
       "      <td>NaN</td>\n",
       "      <td>NaN</td>\n",
       "      <td>NaN</td>\n",
       "      <td>NaN</td>\n",
       "      <td>0</td>\n",
       "    </tr>\n",
       "    <tr>\n",
       "      <th>8</th>\n",
       "      <td>1071795</td>\n",
       "      <td>1306957</td>\n",
       "      <td>5600</td>\n",
       "      <td>5600</td>\n",
       "      <td>5600.0</td>\n",
       "      <td>60 months</td>\n",
       "      <td>21.28</td>\n",
       "      <td>152.39</td>\n",
       "      <td>F</td>\n",
       "      <td>F2</td>\n",
       "      <td>...</td>\n",
       "      <td>NaN</td>\n",
       "      <td>NaN</td>\n",
       "      <td>NaN</td>\n",
       "      <td>NaN</td>\n",
       "      <td>NaN</td>\n",
       "      <td>NaN</td>\n",
       "      <td>NaN</td>\n",
       "      <td>NaN</td>\n",
       "      <td>NaN</td>\n",
       "      <td>1</td>\n",
       "    </tr>\n",
       "    <tr>\n",
       "      <th>9</th>\n",
       "      <td>1071570</td>\n",
       "      <td>1306721</td>\n",
       "      <td>5375</td>\n",
       "      <td>5375</td>\n",
       "      <td>5350.0</td>\n",
       "      <td>60 months</td>\n",
       "      <td>12.69</td>\n",
       "      <td>121.45</td>\n",
       "      <td>B</td>\n",
       "      <td>B5</td>\n",
       "      <td>...</td>\n",
       "      <td>NaN</td>\n",
       "      <td>NaN</td>\n",
       "      <td>NaN</td>\n",
       "      <td>NaN</td>\n",
       "      <td>NaN</td>\n",
       "      <td>NaN</td>\n",
       "      <td>NaN</td>\n",
       "      <td>NaN</td>\n",
       "      <td>NaN</td>\n",
       "      <td>1</td>\n",
       "    </tr>\n",
       "  </tbody>\n",
       "</table>\n",
       "<p>10 rows × 73 columns</p>\n",
       "</div>"
      ],
      "text/plain": [
       "        id  member_id  loan_amnt  funded_amnt  funded_amnt_inv        term  \\\n",
       "0  1077501    1296599       5000         5000           4975.0   36 months   \n",
       "1  1077430    1314167       2500         2500           2500.0   60 months   \n",
       "2  1077175    1313524       2400         2400           2400.0   36 months   \n",
       "3  1076863    1277178      10000        10000          10000.0   36 months   \n",
       "4  1075358    1311748       3000         3000           3000.0   60 months   \n",
       "5  1075269    1311441       5000         5000           5000.0   36 months   \n",
       "6  1069639    1304742       7000         7000           7000.0   60 months   \n",
       "7  1072053    1288686       3000         3000           3000.0   36 months   \n",
       "8  1071795    1306957       5600         5600           5600.0   60 months   \n",
       "9  1071570    1306721       5375         5375           5350.0   60 months   \n",
       "\n",
       "   int_rate  installment grade sub_grade  ... il_util open_rv_12m open_rv_24m  \\\n",
       "0     10.65       162.87     B        B2  ...     NaN         NaN         NaN   \n",
       "1     15.27        59.83     C        C4  ...     NaN         NaN         NaN   \n",
       "2     15.96        84.33     C        C5  ...     NaN         NaN         NaN   \n",
       "3     13.49       339.31     C        C1  ...     NaN         NaN         NaN   \n",
       "4     12.69        67.79     B        B5  ...     NaN         NaN         NaN   \n",
       "5      7.90       156.46     A        A4  ...     NaN         NaN         NaN   \n",
       "6     15.96       170.08     C        C5  ...     NaN         NaN         NaN   \n",
       "7     18.64       109.43     E        E1  ...     NaN         NaN         NaN   \n",
       "8     21.28       152.39     F        F2  ...     NaN         NaN         NaN   \n",
       "9     12.69       121.45     B        B5  ...     NaN         NaN         NaN   \n",
       "\n",
       "   max_bal_bc all_util total_rev_hi_lim inq_fi total_cu_tl inq_last_12m  \\\n",
       "0         NaN      NaN              NaN    NaN         NaN          NaN   \n",
       "1         NaN      NaN              NaN    NaN         NaN          NaN   \n",
       "2         NaN      NaN              NaN    NaN         NaN          NaN   \n",
       "3         NaN      NaN              NaN    NaN         NaN          NaN   \n",
       "4         NaN      NaN              NaN    NaN         NaN          NaN   \n",
       "5         NaN      NaN              NaN    NaN         NaN          NaN   \n",
       "6         NaN      NaN              NaN    NaN         NaN          NaN   \n",
       "7         NaN      NaN              NaN    NaN         NaN          NaN   \n",
       "8         NaN      NaN              NaN    NaN         NaN          NaN   \n",
       "9         NaN      NaN              NaN    NaN         NaN          NaN   \n",
       "\n",
       "  default_ind  \n",
       "0           0  \n",
       "1           1  \n",
       "2           0  \n",
       "3           0  \n",
       "4           0  \n",
       "5           0  \n",
       "6           0  \n",
       "7           0  \n",
       "8           1  \n",
       "9           1  \n",
       "\n",
       "[10 rows x 73 columns]"
      ]
     },
     "execution_count": 103,
     "metadata": {},
     "output_type": "execute_result"
    }
   ],
   "source": [
    "credit_data.head(10)"
   ]
  },
  {
   "cell_type": "code",
   "execution_count": 104,
   "metadata": {},
   "outputs": [
    {
     "data": {
      "text/html": [
       "<div>\n",
       "<style scoped>\n",
       "    .dataframe tbody tr th:only-of-type {\n",
       "        vertical-align: middle;\n",
       "    }\n",
       "\n",
       "    .dataframe tbody tr th {\n",
       "        vertical-align: top;\n",
       "    }\n",
       "\n",
       "    .dataframe thead th {\n",
       "        text-align: right;\n",
       "    }\n",
       "</style>\n",
       "<table border=\"1\" class=\"dataframe\">\n",
       "  <thead>\n",
       "    <tr style=\"text-align: right;\">\n",
       "      <th></th>\n",
       "      <th>id</th>\n",
       "      <th>member_id</th>\n",
       "      <th>loan_amnt</th>\n",
       "      <th>funded_amnt</th>\n",
       "      <th>funded_amnt_inv</th>\n",
       "      <th>term</th>\n",
       "      <th>int_rate</th>\n",
       "      <th>installment</th>\n",
       "      <th>grade</th>\n",
       "      <th>sub_grade</th>\n",
       "      <th>...</th>\n",
       "      <th>il_util</th>\n",
       "      <th>open_rv_12m</th>\n",
       "      <th>open_rv_24m</th>\n",
       "      <th>max_bal_bc</th>\n",
       "      <th>all_util</th>\n",
       "      <th>total_rev_hi_lim</th>\n",
       "      <th>inq_fi</th>\n",
       "      <th>total_cu_tl</th>\n",
       "      <th>inq_last_12m</th>\n",
       "      <th>default_ind</th>\n",
       "    </tr>\n",
       "  </thead>\n",
       "  <tbody>\n",
       "    <tr>\n",
       "      <th>855964</th>\n",
       "      <td>36371250</td>\n",
       "      <td>39102635</td>\n",
       "      <td>10000</td>\n",
       "      <td>10000</td>\n",
       "      <td>10000.0</td>\n",
       "      <td>36 months</td>\n",
       "      <td>11.99</td>\n",
       "      <td>332.10</td>\n",
       "      <td>B</td>\n",
       "      <td>B5</td>\n",
       "      <td>...</td>\n",
       "      <td>NaN</td>\n",
       "      <td>NaN</td>\n",
       "      <td>NaN</td>\n",
       "      <td>NaN</td>\n",
       "      <td>NaN</td>\n",
       "      <td>17100.0</td>\n",
       "      <td>NaN</td>\n",
       "      <td>NaN</td>\n",
       "      <td>NaN</td>\n",
       "      <td>0</td>\n",
       "    </tr>\n",
       "    <tr>\n",
       "      <th>855965</th>\n",
       "      <td>36441262</td>\n",
       "      <td>39152692</td>\n",
       "      <td>24000</td>\n",
       "      <td>24000</td>\n",
       "      <td>24000.0</td>\n",
       "      <td>36 months</td>\n",
       "      <td>11.99</td>\n",
       "      <td>797.03</td>\n",
       "      <td>B</td>\n",
       "      <td>B5</td>\n",
       "      <td>...</td>\n",
       "      <td>NaN</td>\n",
       "      <td>NaN</td>\n",
       "      <td>NaN</td>\n",
       "      <td>NaN</td>\n",
       "      <td>NaN</td>\n",
       "      <td>10200.0</td>\n",
       "      <td>NaN</td>\n",
       "      <td>NaN</td>\n",
       "      <td>NaN</td>\n",
       "      <td>0</td>\n",
       "    </tr>\n",
       "    <tr>\n",
       "      <th>855966</th>\n",
       "      <td>36271333</td>\n",
       "      <td>38982739</td>\n",
       "      <td>13000</td>\n",
       "      <td>13000</td>\n",
       "      <td>13000.0</td>\n",
       "      <td>60 months</td>\n",
       "      <td>15.99</td>\n",
       "      <td>316.07</td>\n",
       "      <td>D</td>\n",
       "      <td>D2</td>\n",
       "      <td>...</td>\n",
       "      <td>NaN</td>\n",
       "      <td>NaN</td>\n",
       "      <td>NaN</td>\n",
       "      <td>NaN</td>\n",
       "      <td>NaN</td>\n",
       "      <td>18000.0</td>\n",
       "      <td>NaN</td>\n",
       "      <td>NaN</td>\n",
       "      <td>NaN</td>\n",
       "      <td>0</td>\n",
       "    </tr>\n",
       "    <tr>\n",
       "      <th>855967</th>\n",
       "      <td>36490806</td>\n",
       "      <td>39222577</td>\n",
       "      <td>12000</td>\n",
       "      <td>12000</td>\n",
       "      <td>12000.0</td>\n",
       "      <td>60 months</td>\n",
       "      <td>19.99</td>\n",
       "      <td>317.86</td>\n",
       "      <td>E</td>\n",
       "      <td>E3</td>\n",
       "      <td>...</td>\n",
       "      <td>NaN</td>\n",
       "      <td>NaN</td>\n",
       "      <td>NaN</td>\n",
       "      <td>NaN</td>\n",
       "      <td>NaN</td>\n",
       "      <td>27000.0</td>\n",
       "      <td>NaN</td>\n",
       "      <td>NaN</td>\n",
       "      <td>NaN</td>\n",
       "      <td>0</td>\n",
       "    </tr>\n",
       "    <tr>\n",
       "      <th>855968</th>\n",
       "      <td>36271262</td>\n",
       "      <td>38982659</td>\n",
       "      <td>20000</td>\n",
       "      <td>20000</td>\n",
       "      <td>20000.0</td>\n",
       "      <td>36 months</td>\n",
       "      <td>11.99</td>\n",
       "      <td>664.20</td>\n",
       "      <td>B</td>\n",
       "      <td>B5</td>\n",
       "      <td>...</td>\n",
       "      <td>NaN</td>\n",
       "      <td>NaN</td>\n",
       "      <td>NaN</td>\n",
       "      <td>NaN</td>\n",
       "      <td>NaN</td>\n",
       "      <td>41700.0</td>\n",
       "      <td>NaN</td>\n",
       "      <td>NaN</td>\n",
       "      <td>NaN</td>\n",
       "      <td>0</td>\n",
       "    </tr>\n",
       "  </tbody>\n",
       "</table>\n",
       "<p>5 rows × 73 columns</p>\n",
       "</div>"
      ],
      "text/plain": [
       "              id  member_id  loan_amnt  funded_amnt  funded_amnt_inv  \\\n",
       "855964  36371250   39102635      10000        10000          10000.0   \n",
       "855965  36441262   39152692      24000        24000          24000.0   \n",
       "855966  36271333   38982739      13000        13000          13000.0   \n",
       "855967  36490806   39222577      12000        12000          12000.0   \n",
       "855968  36271262   38982659      20000        20000          20000.0   \n",
       "\n",
       "              term  int_rate  installment grade sub_grade  ... il_util  \\\n",
       "855964   36 months     11.99       332.10     B        B5  ...     NaN   \n",
       "855965   36 months     11.99       797.03     B        B5  ...     NaN   \n",
       "855966   60 months     15.99       316.07     D        D2  ...     NaN   \n",
       "855967   60 months     19.99       317.86     E        E3  ...     NaN   \n",
       "855968   36 months     11.99       664.20     B        B5  ...     NaN   \n",
       "\n",
       "       open_rv_12m open_rv_24m  max_bal_bc all_util total_rev_hi_lim inq_fi  \\\n",
       "855964         NaN         NaN         NaN      NaN          17100.0    NaN   \n",
       "855965         NaN         NaN         NaN      NaN          10200.0    NaN   \n",
       "855966         NaN         NaN         NaN      NaN          18000.0    NaN   \n",
       "855967         NaN         NaN         NaN      NaN          27000.0    NaN   \n",
       "855968         NaN         NaN         NaN      NaN          41700.0    NaN   \n",
       "\n",
       "       total_cu_tl inq_last_12m default_ind  \n",
       "855964         NaN          NaN           0  \n",
       "855965         NaN          NaN           0  \n",
       "855966         NaN          NaN           0  \n",
       "855967         NaN          NaN           0  \n",
       "855968         NaN          NaN           0  \n",
       "\n",
       "[5 rows x 73 columns]"
      ]
     },
     "execution_count": 104,
     "metadata": {},
     "output_type": "execute_result"
    }
   ],
   "source": [
    "credit_data.tail()"
   ]
  },
  {
   "cell_type": "code",
   "execution_count": 105,
   "metadata": {
    "scrolled": false
   },
   "outputs": [
    {
     "data": {
      "text/html": [
       "<div>\n",
       "<style scoped>\n",
       "    .dataframe tbody tr th:only-of-type {\n",
       "        vertical-align: middle;\n",
       "    }\n",
       "\n",
       "    .dataframe tbody tr th {\n",
       "        vertical-align: top;\n",
       "    }\n",
       "\n",
       "    .dataframe thead th {\n",
       "        text-align: right;\n",
       "    }\n",
       "</style>\n",
       "<table border=\"1\" class=\"dataframe\">\n",
       "  <thead>\n",
       "    <tr style=\"text-align: right;\">\n",
       "      <th></th>\n",
       "      <th>id</th>\n",
       "      <th>member_id</th>\n",
       "      <th>loan_amnt</th>\n",
       "      <th>funded_amnt</th>\n",
       "      <th>funded_amnt_inv</th>\n",
       "      <th>int_rate</th>\n",
       "      <th>installment</th>\n",
       "      <th>annual_inc</th>\n",
       "      <th>dti</th>\n",
       "      <th>delinq_2yrs</th>\n",
       "      <th>...</th>\n",
       "      <th>il_util</th>\n",
       "      <th>open_rv_12m</th>\n",
       "      <th>open_rv_24m</th>\n",
       "      <th>max_bal_bc</th>\n",
       "      <th>all_util</th>\n",
       "      <th>total_rev_hi_lim</th>\n",
       "      <th>inq_fi</th>\n",
       "      <th>total_cu_tl</th>\n",
       "      <th>inq_last_12m</th>\n",
       "      <th>default_ind</th>\n",
       "    </tr>\n",
       "  </thead>\n",
       "  <tbody>\n",
       "    <tr>\n",
       "      <th>count</th>\n",
       "      <td>8.559690e+05</td>\n",
       "      <td>8.559690e+05</td>\n",
       "      <td>855969.000000</td>\n",
       "      <td>855969.000000</td>\n",
       "      <td>855969.000000</td>\n",
       "      <td>855969.000000</td>\n",
       "      <td>855969.000000</td>\n",
       "      <td>8.559690e+05</td>\n",
       "      <td>855969.000000</td>\n",
       "      <td>855969.000000</td>\n",
       "      <td>...</td>\n",
       "      <td>11609.000000</td>\n",
       "      <td>13288.000000</td>\n",
       "      <td>13288.000000</td>\n",
       "      <td>13288.000000</td>\n",
       "      <td>13288.000000</td>\n",
       "      <td>7.886560e+05</td>\n",
       "      <td>13288.000000</td>\n",
       "      <td>13288.000000</td>\n",
       "      <td>13288.000000</td>\n",
       "      <td>855969.000000</td>\n",
       "    </tr>\n",
       "    <tr>\n",
       "      <th>mean</th>\n",
       "      <td>3.224073e+07</td>\n",
       "      <td>3.476269e+07</td>\n",
       "      <td>14745.571335</td>\n",
       "      <td>14732.378305</td>\n",
       "      <td>14700.061226</td>\n",
       "      <td>13.192320</td>\n",
       "      <td>436.238072</td>\n",
       "      <td>7.507119e+04</td>\n",
       "      <td>18.122165</td>\n",
       "      <td>0.311621</td>\n",
       "      <td>...</td>\n",
       "      <td>71.486993</td>\n",
       "      <td>1.354305</td>\n",
       "      <td>2.945515</td>\n",
       "      <td>5840.443332</td>\n",
       "      <td>61.024526</td>\n",
       "      <td>3.216357e+04</td>\n",
       "      <td>0.947772</td>\n",
       "      <td>1.524232</td>\n",
       "      <td>1.841963</td>\n",
       "      <td>0.054286</td>\n",
       "    </tr>\n",
       "    <tr>\n",
       "      <th>std</th>\n",
       "      <td>2.271969e+07</td>\n",
       "      <td>2.399418e+07</td>\n",
       "      <td>8425.340005</td>\n",
       "      <td>8419.471653</td>\n",
       "      <td>8425.805478</td>\n",
       "      <td>4.368365</td>\n",
       "      <td>243.726876</td>\n",
       "      <td>6.426447e+04</td>\n",
       "      <td>17.423629</td>\n",
       "      <td>0.857189</td>\n",
       "      <td>...</td>\n",
       "      <td>23.015293</td>\n",
       "      <td>1.483710</td>\n",
       "      <td>2.595313</td>\n",
       "      <td>5108.500262</td>\n",
       "      <td>20.018117</td>\n",
       "      <td>3.769964e+04</td>\n",
       "      <td>1.441667</td>\n",
       "      <td>2.697601</td>\n",
       "      <td>2.975049</td>\n",
       "      <td>0.226581</td>\n",
       "    </tr>\n",
       "    <tr>\n",
       "      <th>min</th>\n",
       "      <td>5.473400e+04</td>\n",
       "      <td>7.069900e+04</td>\n",
       "      <td>500.000000</td>\n",
       "      <td>500.000000</td>\n",
       "      <td>0.000000</td>\n",
       "      <td>5.320000</td>\n",
       "      <td>15.690000</td>\n",
       "      <td>0.000000e+00</td>\n",
       "      <td>0.000000</td>\n",
       "      <td>0.000000</td>\n",
       "      <td>...</td>\n",
       "      <td>0.000000</td>\n",
       "      <td>0.000000</td>\n",
       "      <td>0.000000</td>\n",
       "      <td>0.000000</td>\n",
       "      <td>0.000000</td>\n",
       "      <td>0.000000e+00</td>\n",
       "      <td>0.000000</td>\n",
       "      <td>0.000000</td>\n",
       "      <td>-4.000000</td>\n",
       "      <td>0.000000</td>\n",
       "    </tr>\n",
       "    <tr>\n",
       "      <th>25%</th>\n",
       "      <td>9.067986e+06</td>\n",
       "      <td>1.079273e+07</td>\n",
       "      <td>8000.000000</td>\n",
       "      <td>8000.000000</td>\n",
       "      <td>8000.000000</td>\n",
       "      <td>9.990000</td>\n",
       "      <td>260.550000</td>\n",
       "      <td>4.500000e+04</td>\n",
       "      <td>11.880000</td>\n",
       "      <td>0.000000</td>\n",
       "      <td>...</td>\n",
       "      <td>58.500000</td>\n",
       "      <td>0.000000</td>\n",
       "      <td>1.000000</td>\n",
       "      <td>2405.000000</td>\n",
       "      <td>47.900000</td>\n",
       "      <td>1.400000e+04</td>\n",
       "      <td>0.000000</td>\n",
       "      <td>0.000000</td>\n",
       "      <td>0.000000</td>\n",
       "      <td>0.000000</td>\n",
       "    </tr>\n",
       "    <tr>\n",
       "      <th>50%</th>\n",
       "      <td>3.431355e+07</td>\n",
       "      <td>3.697532e+07</td>\n",
       "      <td>13000.000000</td>\n",
       "      <td>13000.000000</td>\n",
       "      <td>13000.000000</td>\n",
       "      <td>12.990000</td>\n",
       "      <td>382.550000</td>\n",
       "      <td>6.500000e+04</td>\n",
       "      <td>17.610000</td>\n",
       "      <td>0.000000</td>\n",
       "      <td>...</td>\n",
       "      <td>75.000000</td>\n",
       "      <td>1.000000</td>\n",
       "      <td>2.000000</td>\n",
       "      <td>4485.500000</td>\n",
       "      <td>62.100000</td>\n",
       "      <td>2.380000e+04</td>\n",
       "      <td>0.000000</td>\n",
       "      <td>0.000000</td>\n",
       "      <td>2.000000</td>\n",
       "      <td>0.000000</td>\n",
       "    </tr>\n",
       "    <tr>\n",
       "      <th>75%</th>\n",
       "      <td>5.446311e+07</td>\n",
       "      <td>5.803559e+07</td>\n",
       "      <td>20000.000000</td>\n",
       "      <td>20000.000000</td>\n",
       "      <td>20000.000000</td>\n",
       "      <td>15.990000</td>\n",
       "      <td>571.560000</td>\n",
       "      <td>9.000000e+04</td>\n",
       "      <td>23.900000</td>\n",
       "      <td>0.000000</td>\n",
       "      <td>...</td>\n",
       "      <td>87.500000</td>\n",
       "      <td>2.000000</td>\n",
       "      <td>4.000000</td>\n",
       "      <td>7701.250000</td>\n",
       "      <td>75.300000</td>\n",
       "      <td>3.990000e+04</td>\n",
       "      <td>1.000000</td>\n",
       "      <td>2.000000</td>\n",
       "      <td>3.000000</td>\n",
       "      <td>0.000000</td>\n",
       "    </tr>\n",
       "    <tr>\n",
       "      <th>max</th>\n",
       "      <td>6.861687e+07</td>\n",
       "      <td>7.351969e+07</td>\n",
       "      <td>35000.000000</td>\n",
       "      <td>35000.000000</td>\n",
       "      <td>35000.000000</td>\n",
       "      <td>28.990000</td>\n",
       "      <td>1445.460000</td>\n",
       "      <td>9.500000e+06</td>\n",
       "      <td>9999.000000</td>\n",
       "      <td>39.000000</td>\n",
       "      <td>...</td>\n",
       "      <td>223.300000</td>\n",
       "      <td>22.000000</td>\n",
       "      <td>43.000000</td>\n",
       "      <td>83047.000000</td>\n",
       "      <td>151.400000</td>\n",
       "      <td>9.999999e+06</td>\n",
       "      <td>15.000000</td>\n",
       "      <td>33.000000</td>\n",
       "      <td>32.000000</td>\n",
       "      <td>1.000000</td>\n",
       "    </tr>\n",
       "  </tbody>\n",
       "</table>\n",
       "<p>8 rows × 52 columns</p>\n",
       "</div>"
      ],
      "text/plain": [
       "                 id     member_id      loan_amnt    funded_amnt  \\\n",
       "count  8.559690e+05  8.559690e+05  855969.000000  855969.000000   \n",
       "mean   3.224073e+07  3.476269e+07   14745.571335   14732.378305   \n",
       "std    2.271969e+07  2.399418e+07    8425.340005    8419.471653   \n",
       "min    5.473400e+04  7.069900e+04     500.000000     500.000000   \n",
       "25%    9.067986e+06  1.079273e+07    8000.000000    8000.000000   \n",
       "50%    3.431355e+07  3.697532e+07   13000.000000   13000.000000   \n",
       "75%    5.446311e+07  5.803559e+07   20000.000000   20000.000000   \n",
       "max    6.861687e+07  7.351969e+07   35000.000000   35000.000000   \n",
       "\n",
       "       funded_amnt_inv       int_rate    installment    annual_inc  \\\n",
       "count    855969.000000  855969.000000  855969.000000  8.559690e+05   \n",
       "mean      14700.061226      13.192320     436.238072  7.507119e+04   \n",
       "std        8425.805478       4.368365     243.726876  6.426447e+04   \n",
       "min           0.000000       5.320000      15.690000  0.000000e+00   \n",
       "25%        8000.000000       9.990000     260.550000  4.500000e+04   \n",
       "50%       13000.000000      12.990000     382.550000  6.500000e+04   \n",
       "75%       20000.000000      15.990000     571.560000  9.000000e+04   \n",
       "max       35000.000000      28.990000    1445.460000  9.500000e+06   \n",
       "\n",
       "                 dti    delinq_2yrs  ...       il_util   open_rv_12m  \\\n",
       "count  855969.000000  855969.000000  ...  11609.000000  13288.000000   \n",
       "mean       18.122165       0.311621  ...     71.486993      1.354305   \n",
       "std        17.423629       0.857189  ...     23.015293      1.483710   \n",
       "min         0.000000       0.000000  ...      0.000000      0.000000   \n",
       "25%        11.880000       0.000000  ...     58.500000      0.000000   \n",
       "50%        17.610000       0.000000  ...     75.000000      1.000000   \n",
       "75%        23.900000       0.000000  ...     87.500000      2.000000   \n",
       "max      9999.000000      39.000000  ...    223.300000     22.000000   \n",
       "\n",
       "        open_rv_24m    max_bal_bc      all_util  total_rev_hi_lim  \\\n",
       "count  13288.000000  13288.000000  13288.000000      7.886560e+05   \n",
       "mean       2.945515   5840.443332     61.024526      3.216357e+04   \n",
       "std        2.595313   5108.500262     20.018117      3.769964e+04   \n",
       "min        0.000000      0.000000      0.000000      0.000000e+00   \n",
       "25%        1.000000   2405.000000     47.900000      1.400000e+04   \n",
       "50%        2.000000   4485.500000     62.100000      2.380000e+04   \n",
       "75%        4.000000   7701.250000     75.300000      3.990000e+04   \n",
       "max       43.000000  83047.000000    151.400000      9.999999e+06   \n",
       "\n",
       "             inq_fi   total_cu_tl  inq_last_12m    default_ind  \n",
       "count  13288.000000  13288.000000  13288.000000  855969.000000  \n",
       "mean       0.947772      1.524232      1.841963       0.054286  \n",
       "std        1.441667      2.697601      2.975049       0.226581  \n",
       "min        0.000000      0.000000     -4.000000       0.000000  \n",
       "25%        0.000000      0.000000      0.000000       0.000000  \n",
       "50%        0.000000      0.000000      2.000000       0.000000  \n",
       "75%        1.000000      2.000000      3.000000       0.000000  \n",
       "max       15.000000     33.000000     32.000000       1.000000  \n",
       "\n",
       "[8 rows x 52 columns]"
      ]
     },
     "execution_count": 105,
     "metadata": {},
     "output_type": "execute_result"
    }
   ],
   "source": [
    "credit_data.describe()"
   ]
  },
  {
   "cell_type": "markdown",
   "metadata": {},
   "source": [
    "Let's examine the structure of the data set."
   ]
  },
  {
   "cell_type": "code",
   "execution_count": 106,
   "metadata": {},
   "outputs": [
    {
     "data": {
      "text/plain": [
       "Index(['id', 'member_id', 'loan_amnt', 'funded_amnt', 'funded_amnt_inv',\n",
       "       'term', 'int_rate', 'installment', 'grade', 'sub_grade', 'emp_title',\n",
       "       'emp_length', 'home_ownership', 'annual_inc', 'verification_status',\n",
       "       'issue_d', 'pymnt_plan', 'desc', 'purpose', 'title', 'zip_code',\n",
       "       'addr_state', 'dti', 'delinq_2yrs', 'earliest_cr_line',\n",
       "       'inq_last_6mths', 'mths_since_last_delinq', 'mths_since_last_record',\n",
       "       'open_acc', 'pub_rec', 'revol_bal', 'revol_util', 'total_acc',\n",
       "       'initial_list_status', 'out_prncp', 'out_prncp_inv', 'total_pymnt',\n",
       "       'total_pymnt_inv', 'total_rec_prncp', 'total_rec_int',\n",
       "       'total_rec_late_fee', 'recoveries', 'collection_recovery_fee',\n",
       "       'last_pymnt_d', 'last_pymnt_amnt', 'next_pymnt_d', 'last_credit_pull_d',\n",
       "       'collections_12_mths_ex_med', 'mths_since_last_major_derog',\n",
       "       'policy_code', 'application_type', 'annual_inc_joint', 'dti_joint',\n",
       "       'verification_status_joint', 'acc_now_delinq', 'tot_coll_amt',\n",
       "       'tot_cur_bal', 'open_acc_6m', 'open_il_6m', 'open_il_12m',\n",
       "       'open_il_24m', 'mths_since_rcnt_il', 'total_bal_il', 'il_util',\n",
       "       'open_rv_12m', 'open_rv_24m', 'max_bal_bc', 'all_util',\n",
       "       'total_rev_hi_lim', 'inq_fi', 'total_cu_tl', 'inq_last_12m',\n",
       "       'default_ind'],\n",
       "      dtype='object')"
      ]
     },
     "execution_count": 106,
     "metadata": {},
     "output_type": "execute_result"
    }
   ],
   "source": [
    "# all data frame columns\n",
    "credit_data.columns"
   ]
  },
  {
   "cell_type": "code",
   "execution_count": 107,
   "metadata": {},
   "outputs": [
    {
     "name": "stdout",
     "output_type": "stream",
     "text": [
      "<class 'pandas.core.frame.DataFrame'>\n",
      "RangeIndex: 855969 entries, 0 to 855968\n",
      "Data columns (total 73 columns):\n",
      " #   Column                       Non-Null Count   Dtype  \n",
      "---  ------                       --------------   -----  \n",
      " 0   id                           855969 non-null  int64  \n",
      " 1   member_id                    855969 non-null  int64  \n",
      " 2   loan_amnt                    855969 non-null  int64  \n",
      " 3   funded_amnt                  855969 non-null  int64  \n",
      " 4   funded_amnt_inv              855969 non-null  float64\n",
      " 5   term                         855969 non-null  object \n",
      " 6   int_rate                     855969 non-null  float64\n",
      " 7   installment                  855969 non-null  float64\n",
      " 8   grade                        855969 non-null  object \n",
      " 9   sub_grade                    855969 non-null  object \n",
      " 10  emp_title                    806526 non-null  object \n",
      " 11  emp_length                   812908 non-null  object \n",
      " 12  home_ownership               855969 non-null  object \n",
      " 13  annual_inc                   855969 non-null  float64\n",
      " 14  verification_status          855969 non-null  object \n",
      " 15  issue_d                      855969 non-null  object \n",
      " 16  pymnt_plan                   855969 non-null  object \n",
      " 17  desc                         121812 non-null  object \n",
      " 18  purpose                      855969 non-null  object \n",
      " 19  title                        855936 non-null  object \n",
      " 20  zip_code                     855969 non-null  object \n",
      " 21  addr_state                   855969 non-null  object \n",
      " 22  dti                          855969 non-null  float64\n",
      " 23  delinq_2yrs                  855969 non-null  int64  \n",
      " 24  earliest_cr_line             855969 non-null  object \n",
      " 25  inq_last_6mths               855969 non-null  int64  \n",
      " 26  mths_since_last_delinq       416157 non-null  float64\n",
      " 27  mths_since_last_record       131184 non-null  float64\n",
      " 28  open_acc                     855969 non-null  int64  \n",
      " 29  pub_rec                      855969 non-null  int64  \n",
      " 30  revol_bal                    855969 non-null  int64  \n",
      " 31  revol_util                   855523 non-null  float64\n",
      " 32  total_acc                    855969 non-null  int64  \n",
      " 33  initial_list_status          855969 non-null  object \n",
      " 34  out_prncp                    855969 non-null  float64\n",
      " 35  out_prncp_inv                855969 non-null  float64\n",
      " 36  total_pymnt                  855969 non-null  float64\n",
      " 37  total_pymnt_inv              855969 non-null  float64\n",
      " 38  total_rec_prncp              855969 non-null  float64\n",
      " 39  total_rec_int                855969 non-null  float64\n",
      " 40  total_rec_late_fee           855969 non-null  float64\n",
      " 41  recoveries                   855969 non-null  float64\n",
      " 42  collection_recovery_fee      855969 non-null  float64\n",
      " 43  last_pymnt_d                 847107 non-null  object \n",
      " 44  last_pymnt_amnt              855969 non-null  float64\n",
      " 45  next_pymnt_d                 602998 non-null  object \n",
      " 46  last_credit_pull_d           855919 non-null  object \n",
      " 47  collections_12_mths_ex_med   855913 non-null  float64\n",
      " 48  mths_since_last_major_derog  213139 non-null  float64\n",
      " 49  policy_code                  855969 non-null  int64  \n",
      " 50  application_type             855969 non-null  object \n",
      " 51  annual_inc_joint             442 non-null     float64\n",
      " 52  dti_joint                    442 non-null     float64\n",
      " 53  verification_status_joint    442 non-null     object \n",
      " 54  acc_now_delinq               855969 non-null  int64  \n",
      " 55  tot_coll_amt                 788656 non-null  float64\n",
      " 56  tot_cur_bal                  788656 non-null  float64\n",
      " 57  open_acc_6m                  13288 non-null   float64\n",
      " 58  open_il_6m                   13288 non-null   float64\n",
      " 59  open_il_12m                  13288 non-null   float64\n",
      " 60  open_il_24m                  13288 non-null   float64\n",
      " 61  mths_since_rcnt_il           12934 non-null   float64\n",
      " 62  total_bal_il                 13288 non-null   float64\n",
      " 63  il_util                      11609 non-null   float64\n",
      " 64  open_rv_12m                  13288 non-null   float64\n",
      " 65  open_rv_24m                  13288 non-null   float64\n",
      " 66  max_bal_bc                   13288 non-null   float64\n",
      " 67  all_util                     13288 non-null   float64\n",
      " 68  total_rev_hi_lim             788656 non-null  float64\n",
      " 69  inq_fi                       13288 non-null   float64\n",
      " 70  total_cu_tl                  13288 non-null   float64\n",
      " 71  inq_last_12m                 13288 non-null   float64\n",
      " 72  default_ind                  855969 non-null  int64  \n",
      "dtypes: float64(39), int64(13), object(21)\n",
      "memory usage: 476.7+ MB\n"
     ]
    }
   ],
   "source": [
    "# data frame summary\n",
    "credit_data.info()"
   ]
  },
  {
   "cell_type": "markdown",
   "metadata": {},
   "source": [
    "We can see that some features have missing values. Let's take a closer look at them."
   ]
  },
  {
   "cell_type": "code",
   "execution_count": 108,
   "metadata": {
    "scrolled": true
   },
   "outputs": [
    {
     "name": "stdout",
     "output_type": "stream",
     "text": [
      "verification_status_joint    99.948363\n",
      "annual_inc_joint             99.948363\n",
      "dti_joint                    99.948363\n",
      "il_util                      98.643759\n",
      "mths_since_rcnt_il           98.488964\n",
      "                               ...    \n",
      "pub_rec                       0.000000\n",
      "open_acc                      0.000000\n",
      "inq_last_6mths                0.000000\n",
      "earliest_cr_line              0.000000\n",
      "id                            0.000000\n",
      "Length: 73, dtype: float64\n"
     ]
    }
   ],
   "source": [
    "# percentage of missing values per feature\n",
    "print((credit_data.isnull().sum() * 100 / credit_data.shape[0]).sort_values(ascending=False))"
   ]
  },
  {
   "cell_type": "markdown",
   "metadata": {},
   "source": [
    "Looking to all features and the respective percentage of missing values, we can conclude that some of them (like *verification_status_joint*, *annual_inc_joint*, *dti_joint*, *il_util*, *mths_since_rcnt_il*, *total_bal_il*, *inq_last_12m*, *open_acc_6m*, *open_il_6m*, *open_il_24m*, *open_il_12m*, *open_rv_12m*, *open_rv_24m*, *max_bal_bc*, *all_util*, *inq_fi*, *total_cu_tl* have almost all entries missing. As this feature is not crucial for the project, we are dropping it. "
   ]
  },
  {
   "cell_type": "code",
   "execution_count": 109,
   "metadata": {},
   "outputs": [],
   "source": [
    "# drop the columns\n",
    "credit_data.drop(['verification_status_joint', 'annual_inc_joint', 'dti_joint', 'il_util', 'mths_since_rcnt_il',\n",
    "                   'total_bal_il', 'inq_last_12m', 'open_acc_6m', 'open_il_6m', 'open_il_24m', 'open_il_12m', 'open_rv_12m',\n",
    "                   'open_rv_24m', 'max_bal_bc', 'all_util', 'inq_fi', 'total_cu_tl'], axis=1, inplace=True)"
   ]
  },
  {
   "cell_type": "markdown",
   "metadata": {},
   "source": [
    "Now, let's examine the number of unique values for each feature."
   ]
  },
  {
   "cell_type": "code",
   "execution_count": 110,
   "metadata": {},
   "outputs": [
    {
     "data": {
      "text/plain": [
       "policy_code                         1\n",
       "default_ind                         2\n",
       "application_type                    2\n",
       "term                                2\n",
       "pymnt_plan                          2\n",
       "initial_list_status                 2\n",
       "next_pymnt_d                        3\n",
       "verification_status                 3\n",
       "home_ownership                      6\n",
       "grade                               7\n",
       "acc_now_delinq                      8\n",
       "inq_last_6mths                      9\n",
       "emp_length                         11\n",
       "collections_12_mths_ex_med         12\n",
       "purpose                            14\n",
       "delinq_2yrs                        29\n",
       "pub_rec                            31\n",
       "sub_grade                          35\n",
       "addr_state                         51\n",
       "open_acc                           77\n",
       "last_pymnt_d                       97\n",
       "last_credit_pull_d                102\n",
       "issue_d                           103\n",
       "mths_since_last_record            123\n",
       "total_acc                         134\n",
       "mths_since_last_delinq            155\n",
       "mths_since_last_major_derog       167\n",
       "int_rate                          520\n",
       "earliest_cr_line                  697\n",
       "zip_code                          931\n",
       "revol_util                       1338\n",
       "loan_amnt                        1368\n",
       "funded_amnt                      1368\n",
       "dti                              4074\n",
       "total_rec_late_fee               5320\n",
       "funded_amnt_inv                  8818\n",
       "tot_coll_amt                    10138\n",
       "collection_recovery_fee         20386\n",
       "total_rev_hi_lim                20793\n",
       "recoveries                      22627\n",
       "annual_inc                      48163\n",
       "title                           60954\n",
       "installment                     67349\n",
       "revol_bal                       72779\n",
       "desc                           120335\n",
       "last_pymnt_amnt                230321\n",
       "out_prncp                      236739\n",
       "total_rec_prncp                250385\n",
       "out_prncp_inv                  254328\n",
       "emp_title                      290910\n",
       "total_rec_int                  317683\n",
       "tot_cur_bal                    322286\n",
       "total_pymnt                    493510\n",
       "total_pymnt_inv                494744\n",
       "member_id                      855969\n",
       "id                             855969\n",
       "dtype: int64"
      ]
     },
     "execution_count": 110,
     "metadata": {},
     "output_type": "execute_result"
    }
   ],
   "source": [
    "# number of unique observations per column\n",
    "credit_data.nunique().sort_values()"
   ]
  },
  {
   "cell_type": "markdown",
   "metadata": {},
   "source": [
    "The feature *policy_code* only has one value, so we can conclude that this one is not important for our analysis and we can also drop this collumn."
   ]
  },
  {
   "cell_type": "code",
   "execution_count": 111,
   "metadata": {},
   "outputs": [],
   "source": [
    "# drop the column \"policy_code\"\n",
    "credit_data.drop('policy_code', axis=1, inplace=True)"
   ]
  },
  {
   "cell_type": "markdown",
   "metadata": {},
   "source": [
    "*id* and *member_id* features are randomly generated fields by bank for unique identification purposes only, so we can drop them."
   ]
  },
  {
   "cell_type": "code",
   "execution_count": 112,
   "metadata": {},
   "outputs": [],
   "source": [
    "# drop the columns \"id\" and \"member_id\"\n",
    "credit_data.drop(['id', 'member_id'], axis=1, inplace=True)"
   ]
  },
  {
   "cell_type": "markdown",
   "metadata": {},
   "source": [
    "Features like *funded_amnt*, *funded_amnt_inv*, *mths_since_last_record*, *out_prncp*, *out_prncp_inv*, *total_pymnt*, *total_pymnt_inv*, *total_rec_prncp*, *total_rec_int*, *total_rec_late_fee*, *recoveries*, *collection_recovery_fee*, *last_pymnt_d*, *last_pymnt_amnt*, *next_pymnt_d* can be dropped because they leak data from future, after the loan has already started to be funded. "
   ]
  },
  {
   "cell_type": "code",
   "execution_count": 113,
   "metadata": {},
   "outputs": [],
   "source": [
    "# drop columns\n",
    "credit_data.drop(['funded_amnt', 'funded_amnt_inv', 'mths_since_last_record', 'out_prncp', 'out_prncp_inv', 'total_pymnt',\n",
    "                   'total_pymnt_inv', 'total_rec_prncp', 'total_rec_int', 'total_rec_late_fee', 'recoveries', \n",
    "                   'collection_recovery_fee', 'last_pymnt_d', 'last_pymnt_amnt', 'next_pymnt_d'], axis=1, inplace=True)"
   ]
  },
  {
   "cell_type": "markdown",
   "metadata": {},
   "source": [
    "*emp_title* feature requires other data and a lot of processing to become potentially useful, so we opt to drop that one too."
   ]
  },
  {
   "cell_type": "code",
   "execution_count": 114,
   "metadata": {},
   "outputs": [],
   "source": [
    "# drop \"emp_title\" column\n",
    "credit_data.drop('emp_title', axis=1, inplace=True)"
   ]
  },
  {
   "cell_type": "markdown",
   "metadata": {},
   "source": [
    "Also *desc*, *initial_list_status*, *total_rev_hi_lim* features doesn't add value to our model, so we will drop them."
   ]
  },
  {
   "cell_type": "code",
   "execution_count": 115,
   "metadata": {},
   "outputs": [],
   "source": [
    "# drop \"desc\", \"initial_list_status\", \"total_rev_hi_lim\" columns\n",
    "credit_data.drop(['desc', 'initial_list_status', 'total_rev_hi_lim'], axis=1, inplace=True)"
   ]
  },
  {
   "cell_type": "markdown",
   "metadata": {},
   "source": [
    "*zip_code* feature is mostly redundant since only the first 3 digits of the 5 digit zip code are visible."
   ]
  },
  {
   "cell_type": "code",
   "execution_count": 116,
   "metadata": {},
   "outputs": [],
   "source": [
    "# drop \"zip_code\" column\n",
    "credit_data.drop('zip_code', axis=1, inplace=True)"
   ]
  },
  {
   "cell_type": "markdown",
   "metadata": {},
   "source": [
    "*addr_state* collumn seems like to contain categorical values. Let's explore the unique value counts of this column."
   ]
  },
  {
   "cell_type": "code",
   "execution_count": 117,
   "metadata": {},
   "outputs": [
    {
     "name": "stdout",
     "output_type": "stream",
     "text": [
      "CA    125172\n",
      "NY     71114\n",
      "TX     68708\n",
      "FL     58639\n",
      "IL     34379\n",
      "NJ     32061\n",
      "PA     30250\n",
      "OH     28651\n",
      "GA     28043\n",
      "VA     25234\n",
      "NC     23787\n",
      "MI     22175\n",
      "MD     20209\n",
      "MA     19835\n",
      "AZ     19693\n",
      "WA     18816\n",
      "CO     18211\n",
      "MN     15424\n",
      "MO     13743\n",
      "IN     13348\n",
      "CT     13042\n",
      "TN     12392\n",
      "NV     11972\n",
      "WI     11199\n",
      "AL     10732\n",
      "OR     10562\n",
      "SC     10302\n",
      "LA     10186\n",
      "KY      8299\n",
      "OK      7759\n",
      "KS      7693\n",
      "AR      6399\n",
      "UT      6055\n",
      "NM      4757\n",
      "HI      4380\n",
      "WV      4247\n",
      "NH      4156\n",
      "RI      3753\n",
      "MS      3653\n",
      "MT      2466\n",
      "DE      2402\n",
      "DC      2382\n",
      "AK      2134\n",
      "WY      1974\n",
      "VT      1753\n",
      "SD      1745\n",
      "NE      1124\n",
      "ME       491\n",
      "ND       452\n",
      "ID         9\n",
      "IA         7\n",
      "Name: addr_state, dtype: int64\n"
     ]
    }
   ],
   "source": [
    "print(credit_data['addr_state'].value_counts())"
   ]
  },
  {
   "cell_type": "markdown",
   "metadata": {},
   "source": [
    "The *addr_state* column contains too many unique values, so it’s better to drop this."
   ]
  },
  {
   "cell_type": "code",
   "execution_count": 118,
   "metadata": {},
   "outputs": [],
   "source": [
    "# drop \"addr_state\" column\n",
    "credit_data.drop('addr_state', axis=1, inplace=True)"
   ]
  },
  {
   "cell_type": "markdown",
   "metadata": {},
   "source": [
    "Let's look at *pymnt_plan* feature values."
   ]
  },
  {
   "cell_type": "code",
   "execution_count": 119,
   "metadata": {},
   "outputs": [
    {
     "name": "stdout",
     "output_type": "stream",
     "text": [
      "n    855964\n",
      "y         5\n",
      "Name: pymnt_plan, dtype: int64\n"
     ]
    }
   ],
   "source": [
    "print(credit_data['pymnt_plan'].value_counts())"
   ]
  },
  {
   "cell_type": "markdown",
   "metadata": {},
   "source": [
    "It seems that this column has two unique values, *y* and *n*, with *y* occurring only 5 times. Let’s drop this column:"
   ]
  },
  {
   "cell_type": "code",
   "execution_count": 120,
   "metadata": {},
   "outputs": [],
   "source": [
    "# drop \"pymnt_plan\" column\n",
    "credit_data.drop('pymnt_plan', axis=1, inplace=True)"
   ]
  },
  {
   "cell_type": "markdown",
   "metadata": {},
   "source": [
    "Let's also look at *application_type* column."
   ]
  },
  {
   "cell_type": "code",
   "execution_count": 121,
   "metadata": {},
   "outputs": [
    {
     "name": "stdout",
     "output_type": "stream",
     "text": [
      "INDIVIDUAL    855527\n",
      "JOINT            442\n",
      "Name: application_type, dtype: int64\n"
     ]
    }
   ],
   "source": [
    "print(credit_data['application_type'].value_counts())"
   ]
  },
  {
   "cell_type": "markdown",
   "metadata": {},
   "source": [
    "It seems that this column only has two unique values, *INDIVIDUAL* and *JOINT*, with *JOINT* occurring only 442 times. Let's drop this column too:"
   ]
  },
  {
   "cell_type": "code",
   "execution_count": 122,
   "metadata": {},
   "outputs": [],
   "source": [
    "# drop \"application_type\" column\n",
    "credit_data.drop('application_type', axis=1, inplace=True)"
   ]
  },
  {
   "cell_type": "markdown",
   "metadata": {},
   "source": [
    "Next, let’s look at the unique value counts for the *purpose* and *title* columns to understand which columns we want to keep."
   ]
  },
  {
   "cell_type": "code",
   "execution_count": 123,
   "metadata": {},
   "outputs": [
    {
     "name": "stdout",
     "output_type": "stream",
     "text": [
      "Unique Values in column: purpose\n",
      "\n",
      "debt_consolidation    505392\n",
      "credit_card           200144\n",
      "home_improvement       49956\n",
      "other                  40949\n",
      "major_purchase         16587\n",
      "small_business          9785\n",
      "car                     8593\n",
      "medical                 8193\n",
      "moving                  5160\n",
      "vacation                4542\n",
      "house                   3513\n",
      "wedding                 2280\n",
      "renewable_energy         549\n",
      "educational              326\n",
      "Name: purpose, dtype: int64 \n",
      "\n",
      "Unique Values in column: title\n",
      "\n",
      "Debt consolidation           398089\n",
      "Credit card refinancing      159228\n",
      "Home improvement              38633\n",
      "Other                         30522\n",
      "Debt Consolidation            15469\n",
      "                              ...  \n",
      "Web for Creative Kids             1\n",
      "Paying Off 3 Credit Cards         1\n",
      "LASTCALL4ME2                      1\n",
      "homeimprovementloan               1\n",
      "Payback $                         1\n",
      "Name: title, Length: 60954, dtype: int64 \n",
      "\n"
     ]
    }
   ],
   "source": [
    "for name in ['purpose','title']:\n",
    "    print(\"Unique Values in column: {}\\n\".format(name))\n",
    "    print(credit_data[name].value_counts(),'\\n')"
   ]
  },
  {
   "cell_type": "markdown",
   "metadata": {},
   "source": [
    "It appears the *purpose* and *title* columns do contain overlapping information. *title* column contains too many different values with distinct information, so it is hard to analyse its values. On the other hand, *purpose* has many unique values and they are nominal so, to convert them to numerical in order to analyse them will create many new collumns and difficult our job.\n",
    "Taking this into account, we opt to drop both columns."
   ]
  },
  {
   "cell_type": "code",
   "execution_count": 124,
   "metadata": {},
   "outputs": [],
   "source": [
    "# drop \"title\" and \"purpose\" column\n",
    "credit_data.drop(['title', 'purpose'], axis=1, inplace=True)"
   ]
  },
  {
   "cell_type": "markdown",
   "metadata": {},
   "source": [
    "Looking at the features that we still have, we see that we have two that are very similar: *grade* and *sub_grade*."
   ]
  },
  {
   "cell_type": "code",
   "execution_count": 125,
   "metadata": {},
   "outputs": [
    {
     "name": "stdout",
     "output_type": "stream",
     "text": [
      "Unique Values in column: grade\n",
      "\n",
      "B    247998\n",
      "C    236855\n",
      "A    145665\n",
      "D    132802\n",
      "E     66448\n",
      "F     21328\n",
      "G      4873\n",
      "Name: grade, dtype: int64 \n",
      "\n",
      "Unique Values in column: sub_grade\n",
      "\n",
      "B3    54958\n",
      "B4    54116\n",
      "C1    51588\n",
      "C2    50457\n",
      "C3    48337\n",
      "B2    47589\n",
      "B5    47333\n",
      "C4    46941\n",
      "B1    44002\n",
      "A5    43957\n",
      "C5    39532\n",
      "D1    34667\n",
      "A4    33991\n",
      "D2    28385\n",
      "D3    25289\n",
      "D4    24253\n",
      "A3    23095\n",
      "A1    22516\n",
      "A2    22106\n",
      "D5    20208\n",
      "E1    17230\n",
      "E2    15994\n",
      "E3    13294\n",
      "E4    11011\n",
      "E5     8919\n",
      "F1     6702\n",
      "F2     4979\n",
      "F3     4099\n",
      "F4     3168\n",
      "F5     2380\n",
      "G1     1698\n",
      "G2     1259\n",
      "G3      877\n",
      "G4      570\n",
      "G5      469\n",
      "Name: sub_grade, dtype: int64 \n",
      "\n"
     ]
    }
   ],
   "source": [
    "for name in ['grade','sub_grade']:\n",
    "    print(\"Unique Values in column: {}\\n\".format(name))\n",
    "    print(credit_data[name].value_counts(),'\\n')"
   ]
  },
  {
   "cell_type": "markdown",
   "metadata": {},
   "source": [
    "We can conclude that *sub_grade* contains redundant information that is already in the *grade* column, so we can also drop this column."
   ]
  },
  {
   "cell_type": "code",
   "execution_count": 126,
   "metadata": {},
   "outputs": [],
   "source": [
    "# drop \"sub_grade\" column\n",
    "credit_data.drop('sub_grade', axis=1, inplace=True)"
   ]
  },
  {
   "cell_type": "code",
   "execution_count": 127,
   "metadata": {},
   "outputs": [
    {
     "name": "stdout",
     "output_type": "stream",
     "text": [
      "Number of null values in each column:\n",
      "loan_amnt                           0\n",
      "term                                0\n",
      "int_rate                            0\n",
      "installment                         0\n",
      "grade                               0\n",
      "emp_length                      43061\n",
      "home_ownership                      0\n",
      "annual_inc                          0\n",
      "verification_status                 0\n",
      "issue_d                             0\n",
      "dti                                 0\n",
      "delinq_2yrs                         0\n",
      "earliest_cr_line                    0\n",
      "inq_last_6mths                      0\n",
      "mths_since_last_delinq         439812\n",
      "open_acc                            0\n",
      "pub_rec                             0\n",
      "revol_bal                           0\n",
      "revol_util                        446\n",
      "total_acc                           0\n",
      "last_credit_pull_d                 50\n",
      "collections_12_mths_ex_med         56\n",
      "mths_since_last_major_derog    642830\n",
      "acc_now_delinq                      0\n",
      "tot_coll_amt                    67313\n",
      "tot_cur_bal                     67313\n",
      "default_ind                         0\n",
      "dtype: int64\n"
     ]
    }
   ],
   "source": [
    "null_counts = credit_data.isnull().sum()\n",
    "print(\"Number of null values in each column:\\n{}\".format(null_counts))"
   ]
  },
  {
   "cell_type": "markdown",
   "metadata": {},
   "source": [
    "*mths_since_last_major_derog* column has to many null values, in the order of 75%, so we will drop this one to. We also drop *mths_since_last_delinq* column as it has a high  percentage of null valuess too, in order of 50%."
   ]
  },
  {
   "cell_type": "code",
   "execution_count": 128,
   "metadata": {},
   "outputs": [],
   "source": [
    "# drop \"mths_since_last_major_derog\" and \"mths_since_last_delinq\" columns\n",
    "credit_data.drop(['mths_since_last_major_derog', 'mths_since_last_delinq'], axis=1, inplace=True)"
   ]
  },
  {
   "cell_type": "markdown",
   "metadata": {},
   "source": [
    "Let's now investigate columns that are of the **object** data type and figure out how we can make those values numeric."
   ]
  },
  {
   "cell_type": "code",
   "execution_count": 129,
   "metadata": {},
   "outputs": [
    {
     "name": "stdout",
     "output_type": "stream",
     "text": [
      "term                    36 months\n",
      "grade                           B\n",
      "emp_length              10+ years\n",
      "home_ownership               RENT\n",
      "verification_status      Verified\n",
      "issue_d                01-12-2011\n",
      "earliest_cr_line       01-01-1985\n",
      "last_credit_pull_d     01-01-2016\n",
      "Name: 0, dtype: object\n"
     ]
    }
   ],
   "source": [
    "object_columns_df = credit_data.select_dtypes(include=['object'])\n",
    "print(object_columns_df.iloc[0])"
   ]
  },
  {
   "cell_type": "markdown",
   "metadata": {},
   "source": [
    "These columns seem to represent categorical values:\n",
    "    * term\n",
    "    * grade\n",
    "    * emp_length\n",
    "    * home_ownership\n",
    "    * verification_status\n",
    "    * earliest_cr_line\n",
    "    * last_credit_pull_d\n",
    "    * issue_data"
   ]
  },
  {
   "cell_type": "markdown",
   "metadata": {},
   "source": [
    "Let's now explore the other categorical columns."
   ]
  },
  {
   "cell_type": "code",
   "execution_count": 130,
   "metadata": {},
   "outputs": [
    {
     "name": "stdout",
     "output_type": "stream",
     "text": [
      "term :\n",
      " 36 months    600221\n",
      " 60 months    255748\n",
      "Name: term, dtype: int64 \n",
      "\n",
      "grade :\n",
      "B    247998\n",
      "C    236855\n",
      "A    145665\n",
      "D    132802\n",
      "E     66448\n",
      "F     21328\n",
      "G      4873\n",
      "Name: grade, dtype: int64 \n",
      "\n",
      "emp_length :\n",
      "10+ years    282090\n",
      "2 years       75986\n",
      "< 1 year      67597\n",
      "3 years       67392\n",
      "1 year        54855\n",
      "5 years       53812\n",
      "4 years       50643\n",
      "7 years       43204\n",
      "8 years       42421\n",
      "6 years       41446\n",
      "9 years       33462\n",
      "Name: emp_length, dtype: int64 \n",
      "\n",
      "home_ownership :\n",
      "MORTGAGE    429106\n",
      "RENT        342535\n",
      "OWN          84136\n",
      "OTHER          144\n",
      "NONE            45\n",
      "ANY              3\n",
      "Name: home_ownership, dtype: int64 \n",
      "\n",
      "verification_status :\n",
      "Source Verified    318178\n",
      "Verified           280049\n",
      "Not Verified       257742\n",
      "Name: verification_status, dtype: int64 \n",
      "\n"
     ]
    }
   ],
   "source": [
    "cols = ['term', 'grade', 'emp_length', 'home_ownership', 'verification_status']\n",
    "for name in cols:\n",
    "    print(name,':')\n",
    "    print(credit_data[name].value_counts(),'\\n')"
   ]
  },
  {
   "cell_type": "markdown",
   "metadata": {},
   "source": [
    "*grade*, *emp_length* and *term* columns contain ordinal values, i.e. they are in natural order and we can sort or order them either in increasing or decreasing order. For this reason, we can change the values of this columns to the appropriate numeric values."
   ]
  },
  {
   "cell_type": "code",
   "execution_count": 131,
   "metadata": {},
   "outputs": [],
   "source": [
    "# strip months from 'term' and make it an int\n",
    "credit_data['term'] = credit_data['term'].str.split(' ').str[1]\n",
    "\n",
    "\n",
    "mapping_dict = {\n",
    "    \"emp_length\": {\n",
    "        \"10+ years\": 10,\n",
    "        \"9 years\": 9,\n",
    "        \"8 years\": 8,\n",
    "        \"7 years\": 7,\n",
    "        \"6 years\": 6,\n",
    "        \"5 years\": 5,\n",
    "        \"4 years\": 4,\n",
    "        \"3 years\": 3,\n",
    "        \"2 years\": 2,\n",
    "        \"1 year\": 1,\n",
    "        \"< 1 year\": 0,\n",
    "        \"n/a\": 0\n",
    "    },\n",
    "    \"grade\": {\n",
    "        \"A\": 1,\n",
    "        \"B\": 2,\n",
    "        \"C\": 3,\n",
    "        \"D\": 4,\n",
    "        \"E\": 5,\n",
    "        \"F\": 6,\n",
    "        \"G\": 7\n",
    "    },\n",
    "    \"term\": {\n",
    "        \"36\": 36.0,\n",
    "        \"60\": 60.0\n",
    "    }\n",
    "}\n",
    "credit_data = credit_data.replace(mapping_dict)"
   ]
  },
  {
   "cell_type": "code",
   "execution_count": 132,
   "metadata": {},
   "outputs": [
    {
     "data": {
      "text/html": [
       "<div>\n",
       "<style scoped>\n",
       "    .dataframe tbody tr th:only-of-type {\n",
       "        vertical-align: middle;\n",
       "    }\n",
       "\n",
       "    .dataframe tbody tr th {\n",
       "        vertical-align: top;\n",
       "    }\n",
       "\n",
       "    .dataframe thead th {\n",
       "        text-align: right;\n",
       "    }\n",
       "</style>\n",
       "<table border=\"1\" class=\"dataframe\">\n",
       "  <thead>\n",
       "    <tr style=\"text-align: right;\">\n",
       "      <th></th>\n",
       "      <th>emp_length</th>\n",
       "      <th>grade</th>\n",
       "      <th>term</th>\n",
       "    </tr>\n",
       "  </thead>\n",
       "  <tbody>\n",
       "    <tr>\n",
       "      <th>0</th>\n",
       "      <td>10.0</td>\n",
       "      <td>2</td>\n",
       "      <td>36.0</td>\n",
       "    </tr>\n",
       "    <tr>\n",
       "      <th>1</th>\n",
       "      <td>0.0</td>\n",
       "      <td>3</td>\n",
       "      <td>60.0</td>\n",
       "    </tr>\n",
       "    <tr>\n",
       "      <th>2</th>\n",
       "      <td>10.0</td>\n",
       "      <td>3</td>\n",
       "      <td>36.0</td>\n",
       "    </tr>\n",
       "    <tr>\n",
       "      <th>3</th>\n",
       "      <td>10.0</td>\n",
       "      <td>3</td>\n",
       "      <td>36.0</td>\n",
       "    </tr>\n",
       "    <tr>\n",
       "      <th>4</th>\n",
       "      <td>1.0</td>\n",
       "      <td>2</td>\n",
       "      <td>60.0</td>\n",
       "    </tr>\n",
       "    <tr>\n",
       "      <th>5</th>\n",
       "      <td>3.0</td>\n",
       "      <td>1</td>\n",
       "      <td>36.0</td>\n",
       "    </tr>\n",
       "    <tr>\n",
       "      <th>6</th>\n",
       "      <td>8.0</td>\n",
       "      <td>3</td>\n",
       "      <td>60.0</td>\n",
       "    </tr>\n",
       "    <tr>\n",
       "      <th>7</th>\n",
       "      <td>9.0</td>\n",
       "      <td>5</td>\n",
       "      <td>36.0</td>\n",
       "    </tr>\n",
       "    <tr>\n",
       "      <th>8</th>\n",
       "      <td>4.0</td>\n",
       "      <td>6</td>\n",
       "      <td>60.0</td>\n",
       "    </tr>\n",
       "    <tr>\n",
       "      <th>9</th>\n",
       "      <td>0.0</td>\n",
       "      <td>2</td>\n",
       "      <td>60.0</td>\n",
       "    </tr>\n",
       "  </tbody>\n",
       "</table>\n",
       "</div>"
      ],
      "text/plain": [
       "   emp_length  grade  term\n",
       "0        10.0      2  36.0\n",
       "1         0.0      3  60.0\n",
       "2        10.0      3  36.0\n",
       "3        10.0      3  36.0\n",
       "4         1.0      2  60.0\n",
       "5         3.0      1  36.0\n",
       "6         8.0      3  60.0\n",
       "7         9.0      5  36.0\n",
       "8         4.0      6  60.0\n",
       "9         0.0      2  60.0"
      ]
     },
     "execution_count": 132,
     "metadata": {},
     "output_type": "execute_result"
    }
   ],
   "source": [
    "credit_data[['emp_length', 'grade', 'term']].head(10)"
   ]
  },
  {
   "cell_type": "markdown",
   "metadata": {},
   "source": [
    "*verification_status* and *home_ownership* features contain nominal values, so we can't order them. In this case, we will have to convert them to numerical values using dummy variables."
   ]
  },
  {
   "cell_type": "code",
   "execution_count": 133,
   "metadata": {},
   "outputs": [
    {
     "name": "stdout",
     "output_type": "stream",
     "text": [
      "   verification_status_Not Verified  verification_status_Source Verified  \\\n",
      "0                                 0                                    0   \n",
      "1                                 0                                    1   \n",
      "2                                 1                                    0   \n",
      "3                                 0                                    1   \n",
      "4                                 0                                    1   \n",
      "\n",
      "   verification_status_Verified  home_ownership_ANY  home_ownership_MORTGAGE  \\\n",
      "0                             1                   0                        0   \n",
      "1                             0                   0                        0   \n",
      "2                             0                   0                        0   \n",
      "3                             0                   0                        0   \n",
      "4                             0                   0                        0   \n",
      "\n",
      "   home_ownership_NONE  home_ownership_OTHER  home_ownership_OWN  \\\n",
      "0                    0                     0                   0   \n",
      "1                    0                     0                   0   \n",
      "2                    0                     0                   0   \n",
      "3                    0                     0                   0   \n",
      "4                    0                     0                   0   \n",
      "\n",
      "   home_ownership_RENT  \n",
      "0                    1  \n",
      "1                    1  \n",
      "2                    1  \n",
      "3                    1  \n",
      "4                    1  \n"
     ]
    }
   ],
   "source": [
    "# Converting nominal features into numerical features by encoding them as dummy variables\n",
    "nominal_columns = [\"verification_status\", \"home_ownership\"]\n",
    "dummy_loan = pd.get_dummies(credit_data[nominal_columns])\n",
    "print(dummy_loan.head())"
   ]
  },
  {
   "cell_type": "code",
   "execution_count": 134,
   "metadata": {},
   "outputs": [],
   "source": [
    "# Insert the dummy variables into the original DataFrame, drop nominal columns\n",
    "credit_data = pd.concat([credit_data, dummy_loan], axis=1)\n",
    "credit_data = credit_data.drop(nominal_columns, axis=1)"
   ]
  },
  {
   "cell_type": "code",
   "execution_count": 135,
   "metadata": {},
   "outputs": [
    {
     "data": {
      "text/html": [
       "<div>\n",
       "<style scoped>\n",
       "    .dataframe tbody tr th:only-of-type {\n",
       "        vertical-align: middle;\n",
       "    }\n",
       "\n",
       "    .dataframe tbody tr th {\n",
       "        vertical-align: top;\n",
       "    }\n",
       "\n",
       "    .dataframe thead th {\n",
       "        text-align: right;\n",
       "    }\n",
       "</style>\n",
       "<table border=\"1\" class=\"dataframe\">\n",
       "  <thead>\n",
       "    <tr style=\"text-align: right;\">\n",
       "      <th></th>\n",
       "      <th>loan_amnt</th>\n",
       "      <th>term</th>\n",
       "      <th>int_rate</th>\n",
       "      <th>installment</th>\n",
       "      <th>grade</th>\n",
       "      <th>emp_length</th>\n",
       "      <th>annual_inc</th>\n",
       "      <th>issue_d</th>\n",
       "      <th>dti</th>\n",
       "      <th>delinq_2yrs</th>\n",
       "      <th>...</th>\n",
       "      <th>default_ind</th>\n",
       "      <th>verification_status_Not Verified</th>\n",
       "      <th>verification_status_Source Verified</th>\n",
       "      <th>verification_status_Verified</th>\n",
       "      <th>home_ownership_ANY</th>\n",
       "      <th>home_ownership_MORTGAGE</th>\n",
       "      <th>home_ownership_NONE</th>\n",
       "      <th>home_ownership_OTHER</th>\n",
       "      <th>home_ownership_OWN</th>\n",
       "      <th>home_ownership_RENT</th>\n",
       "    </tr>\n",
       "  </thead>\n",
       "  <tbody>\n",
       "    <tr>\n",
       "      <th>0</th>\n",
       "      <td>5000</td>\n",
       "      <td>36.0</td>\n",
       "      <td>10.65</td>\n",
       "      <td>162.87</td>\n",
       "      <td>2</td>\n",
       "      <td>10.0</td>\n",
       "      <td>24000.0</td>\n",
       "      <td>01-12-2011</td>\n",
       "      <td>27.65</td>\n",
       "      <td>0</td>\n",
       "      <td>...</td>\n",
       "      <td>0</td>\n",
       "      <td>0</td>\n",
       "      <td>0</td>\n",
       "      <td>1</td>\n",
       "      <td>0</td>\n",
       "      <td>0</td>\n",
       "      <td>0</td>\n",
       "      <td>0</td>\n",
       "      <td>0</td>\n",
       "      <td>1</td>\n",
       "    </tr>\n",
       "    <tr>\n",
       "      <th>1</th>\n",
       "      <td>2500</td>\n",
       "      <td>60.0</td>\n",
       "      <td>15.27</td>\n",
       "      <td>59.83</td>\n",
       "      <td>3</td>\n",
       "      <td>0.0</td>\n",
       "      <td>30000.0</td>\n",
       "      <td>01-12-2011</td>\n",
       "      <td>1.00</td>\n",
       "      <td>0</td>\n",
       "      <td>...</td>\n",
       "      <td>1</td>\n",
       "      <td>0</td>\n",
       "      <td>1</td>\n",
       "      <td>0</td>\n",
       "      <td>0</td>\n",
       "      <td>0</td>\n",
       "      <td>0</td>\n",
       "      <td>0</td>\n",
       "      <td>0</td>\n",
       "      <td>1</td>\n",
       "    </tr>\n",
       "    <tr>\n",
       "      <th>2</th>\n",
       "      <td>2400</td>\n",
       "      <td>36.0</td>\n",
       "      <td>15.96</td>\n",
       "      <td>84.33</td>\n",
       "      <td>3</td>\n",
       "      <td>10.0</td>\n",
       "      <td>12252.0</td>\n",
       "      <td>01-12-2011</td>\n",
       "      <td>8.72</td>\n",
       "      <td>0</td>\n",
       "      <td>...</td>\n",
       "      <td>0</td>\n",
       "      <td>1</td>\n",
       "      <td>0</td>\n",
       "      <td>0</td>\n",
       "      <td>0</td>\n",
       "      <td>0</td>\n",
       "      <td>0</td>\n",
       "      <td>0</td>\n",
       "      <td>0</td>\n",
       "      <td>1</td>\n",
       "    </tr>\n",
       "    <tr>\n",
       "      <th>3</th>\n",
       "      <td>10000</td>\n",
       "      <td>36.0</td>\n",
       "      <td>13.49</td>\n",
       "      <td>339.31</td>\n",
       "      <td>3</td>\n",
       "      <td>10.0</td>\n",
       "      <td>49200.0</td>\n",
       "      <td>01-12-2011</td>\n",
       "      <td>20.00</td>\n",
       "      <td>0</td>\n",
       "      <td>...</td>\n",
       "      <td>0</td>\n",
       "      <td>0</td>\n",
       "      <td>1</td>\n",
       "      <td>0</td>\n",
       "      <td>0</td>\n",
       "      <td>0</td>\n",
       "      <td>0</td>\n",
       "      <td>0</td>\n",
       "      <td>0</td>\n",
       "      <td>1</td>\n",
       "    </tr>\n",
       "    <tr>\n",
       "      <th>4</th>\n",
       "      <td>3000</td>\n",
       "      <td>60.0</td>\n",
       "      <td>12.69</td>\n",
       "      <td>67.79</td>\n",
       "      <td>2</td>\n",
       "      <td>1.0</td>\n",
       "      <td>80000.0</td>\n",
       "      <td>01-12-2011</td>\n",
       "      <td>17.94</td>\n",
       "      <td>0</td>\n",
       "      <td>...</td>\n",
       "      <td>0</td>\n",
       "      <td>0</td>\n",
       "      <td>1</td>\n",
       "      <td>0</td>\n",
       "      <td>0</td>\n",
       "      <td>0</td>\n",
       "      <td>0</td>\n",
       "      <td>0</td>\n",
       "      <td>0</td>\n",
       "      <td>1</td>\n",
       "    </tr>\n",
       "  </tbody>\n",
       "</table>\n",
       "<p>5 rows × 32 columns</p>\n",
       "</div>"
      ],
      "text/plain": [
       "   loan_amnt  term  int_rate  installment  grade  emp_length  annual_inc  \\\n",
       "0       5000  36.0     10.65       162.87      2        10.0     24000.0   \n",
       "1       2500  60.0     15.27        59.83      3         0.0     30000.0   \n",
       "2       2400  36.0     15.96        84.33      3        10.0     12252.0   \n",
       "3      10000  36.0     13.49       339.31      3        10.0     49200.0   \n",
       "4       3000  60.0     12.69        67.79      2         1.0     80000.0   \n",
       "\n",
       "      issue_d    dti  delinq_2yrs  ... default_ind  \\\n",
       "0  01-12-2011  27.65            0  ...           0   \n",
       "1  01-12-2011   1.00            0  ...           1   \n",
       "2  01-12-2011   8.72            0  ...           0   \n",
       "3  01-12-2011  20.00            0  ...           0   \n",
       "4  01-12-2011  17.94            0  ...           0   \n",
       "\n",
       "   verification_status_Not Verified  verification_status_Source Verified  \\\n",
       "0                                 0                                    0   \n",
       "1                                 0                                    1   \n",
       "2                                 1                                    0   \n",
       "3                                 0                                    1   \n",
       "4                                 0                                    1   \n",
       "\n",
       "   verification_status_Verified  home_ownership_ANY  home_ownership_MORTGAGE  \\\n",
       "0                             1                   0                        0   \n",
       "1                             0                   0                        0   \n",
       "2                             0                   0                        0   \n",
       "3                             0                   0                        0   \n",
       "4                             0                   0                        0   \n",
       "\n",
       "   home_ownership_NONE home_ownership_OTHER  home_ownership_OWN  \\\n",
       "0                    0                    0                   0   \n",
       "1                    0                    0                   0   \n",
       "2                    0                    0                   0   \n",
       "3                    0                    0                   0   \n",
       "4                    0                    0                   0   \n",
       "\n",
       "   home_ownership_RENT  \n",
       "0                    1  \n",
       "1                    1  \n",
       "2                    1  \n",
       "3                    1  \n",
       "4                    1  \n",
       "\n",
       "[5 rows x 32 columns]"
      ]
     },
     "execution_count": 135,
     "metadata": {},
     "output_type": "execute_result"
    }
   ],
   "source": [
    "credit_data.head()"
   ]
  },
  {
   "cell_type": "markdown",
   "metadata": {},
   "source": [
    "*earliest_cr_line*, *issue_d*, *last_credit_pull_d* columns contain date values. Let's convert them:"
   ]
  },
  {
   "cell_type": "code",
   "execution_count": 136,
   "metadata": {},
   "outputs": [
    {
     "data": {
      "text/html": [
       "<div>\n",
       "<style scoped>\n",
       "    .dataframe tbody tr th:only-of-type {\n",
       "        vertical-align: middle;\n",
       "    }\n",
       "\n",
       "    .dataframe tbody tr th {\n",
       "        vertical-align: top;\n",
       "    }\n",
       "\n",
       "    .dataframe thead th {\n",
       "        text-align: right;\n",
       "    }\n",
       "</style>\n",
       "<table border=\"1\" class=\"dataframe\">\n",
       "  <thead>\n",
       "    <tr style=\"text-align: right;\">\n",
       "      <th></th>\n",
       "      <th>earliest_cr_line</th>\n",
       "      <th>issue_d</th>\n",
       "      <th>last_credit_pull_d</th>\n",
       "    </tr>\n",
       "  </thead>\n",
       "  <tbody>\n",
       "    <tr>\n",
       "      <th>0</th>\n",
       "      <td>1985-01-01</td>\n",
       "      <td>2011-12-01</td>\n",
       "      <td>2016-01-01</td>\n",
       "    </tr>\n",
       "    <tr>\n",
       "      <th>1</th>\n",
       "      <td>1999-04-01</td>\n",
       "      <td>2011-12-01</td>\n",
       "      <td>2013-09-01</td>\n",
       "    </tr>\n",
       "    <tr>\n",
       "      <th>2</th>\n",
       "      <td>2001-11-01</td>\n",
       "      <td>2011-12-01</td>\n",
       "      <td>2016-01-01</td>\n",
       "    </tr>\n",
       "    <tr>\n",
       "      <th>3</th>\n",
       "      <td>1996-02-01</td>\n",
       "      <td>2011-12-01</td>\n",
       "      <td>2015-01-01</td>\n",
       "    </tr>\n",
       "    <tr>\n",
       "      <th>4</th>\n",
       "      <td>1996-01-01</td>\n",
       "      <td>2011-12-01</td>\n",
       "      <td>2016-01-01</td>\n",
       "    </tr>\n",
       "  </tbody>\n",
       "</table>\n",
       "</div>"
      ],
      "text/plain": [
       "  earliest_cr_line    issue_d last_credit_pull_d\n",
       "0       1985-01-01 2011-12-01         2016-01-01\n",
       "1       1999-04-01 2011-12-01         2013-09-01\n",
       "2       2001-11-01 2011-12-01         2016-01-01\n",
       "3       1996-02-01 2011-12-01         2015-01-01\n",
       "4       1996-01-01 2011-12-01         2016-01-01"
      ]
     },
     "execution_count": 136,
     "metadata": {},
     "output_type": "execute_result"
    }
   ],
   "source": [
    "# Convert date inputs\n",
    "cols = [\"earliest_cr_line\",\"issue_d\",\"last_credit_pull_d\"]\n",
    "for col in cols:\n",
    "    credit_data[col] = pd.to_datetime(credit_data[col],format=\"%d-%m-%Y\")\n",
    "credit_data[cols].head()"
   ]
  },
  {
   "cell_type": "markdown",
   "metadata": {},
   "source": [
    "Let's now check if still exist columns with null values."
   ]
  },
  {
   "cell_type": "code",
   "execution_count": 137,
   "metadata": {},
   "outputs": [
    {
     "name": "stdout",
     "output_type": "stream",
     "text": [
      "Number of null values in each column:\n",
      "loan_amnt                                  0\n",
      "term                                       0\n",
      "int_rate                                   0\n",
      "installment                                0\n",
      "grade                                      0\n",
      "emp_length                             43061\n",
      "annual_inc                                 0\n",
      "issue_d                                    0\n",
      "dti                                        0\n",
      "delinq_2yrs                                0\n",
      "earliest_cr_line                           0\n",
      "inq_last_6mths                             0\n",
      "open_acc                                   0\n",
      "pub_rec                                    0\n",
      "revol_bal                                  0\n",
      "revol_util                               446\n",
      "total_acc                                  0\n",
      "last_credit_pull_d                        50\n",
      "collections_12_mths_ex_med                56\n",
      "acc_now_delinq                             0\n",
      "tot_coll_amt                           67313\n",
      "tot_cur_bal                            67313\n",
      "default_ind                                0\n",
      "verification_status_Not Verified           0\n",
      "verification_status_Source Verified        0\n",
      "verification_status_Verified               0\n",
      "home_ownership_ANY                         0\n",
      "home_ownership_MORTGAGE                    0\n",
      "home_ownership_NONE                        0\n",
      "home_ownership_OTHER                       0\n",
      "home_ownership_OWN                         0\n",
      "home_ownership_RENT                        0\n",
      "dtype: int64\n"
     ]
    }
   ],
   "source": [
    "null_counts = credit_data.isnull().sum()\n",
    "print(\"Number of null values in each column:\\n{}\".format(null_counts))"
   ]
  },
  {
   "cell_type": "markdown",
   "metadata": {},
   "source": [
    "As there are some missing values, let's deal with them."
   ]
  },
  {
   "cell_type": "code",
   "execution_count": 138,
   "metadata": {},
   "outputs": [],
   "source": [
    "# Fill in the missing values for 'revol_util' with the median 'revol_util'.\n",
    "credit_data.revol_util.fillna(credit_data.revol_util.median(), inplace=True)\n",
    "\n",
    "# Fill in the missing values for 'collections_12_mths_ex_med' with the median 'collections_12_mths_ex_med'.\n",
    "credit_data.collections_12_mths_ex_med.fillna(credit_data.collections_12_mths_ex_med.median(), inplace=True)\n",
    "\n",
    "# Fill in the missing values for 'tot_coll_amt' with the median 'tot_coll_amt'.\n",
    "credit_data.tot_coll_amt.fillna(credit_data.tot_coll_amt.median(), inplace=True)\n",
    "\n",
    "# Fill in the missing values for 'tot_cur_bal' with the median 'tot_cur_bal'.\n",
    "credit_data.tot_cur_bal.fillna(credit_data.tot_cur_bal.median(), inplace=True)\n",
    "\n",
    "# Fill in the missing values for 'emp_length' with the 0.\n",
    "credit_data.emp_length.fillna(0, inplace=True)"
   ]
  },
  {
   "cell_type": "code",
   "execution_count": 139,
   "metadata": {},
   "outputs": [
    {
     "name": "stdout",
     "output_type": "stream",
     "text": [
      "Number of null values in each column:\n",
      "loan_amnt                               0\n",
      "term                                    0\n",
      "int_rate                                0\n",
      "installment                             0\n",
      "grade                                   0\n",
      "emp_length                              0\n",
      "annual_inc                              0\n",
      "issue_d                                 0\n",
      "dti                                     0\n",
      "delinq_2yrs                             0\n",
      "earliest_cr_line                        0\n",
      "inq_last_6mths                          0\n",
      "open_acc                                0\n",
      "pub_rec                                 0\n",
      "revol_bal                               0\n",
      "revol_util                              0\n",
      "total_acc                               0\n",
      "last_credit_pull_d                     50\n",
      "collections_12_mths_ex_med              0\n",
      "acc_now_delinq                          0\n",
      "tot_coll_amt                            0\n",
      "tot_cur_bal                             0\n",
      "default_ind                             0\n",
      "verification_status_Not Verified        0\n",
      "verification_status_Source Verified     0\n",
      "verification_status_Verified            0\n",
      "home_ownership_ANY                      0\n",
      "home_ownership_MORTGAGE                 0\n",
      "home_ownership_NONE                     0\n",
      "home_ownership_OTHER                    0\n",
      "home_ownership_OWN                      0\n",
      "home_ownership_RENT                     0\n",
      "dtype: int64\n"
     ]
    }
   ],
   "source": [
    "null_counts = credit_data.isnull().sum()\n",
    "print(\"Number of null values in each column:\\n{}\".format(null_counts))"
   ]
  },
  {
   "cell_type": "code",
   "execution_count": 140,
   "metadata": {},
   "outputs": [
    {
     "name": "stdout",
     "output_type": "stream",
     "text": [
      "home_ownership_RENT                    0\n",
      "home_ownership_OWN                     0\n",
      "term                                   0\n",
      "int_rate                               0\n",
      "installment                            0\n",
      "grade                                  0\n",
      "emp_length                             0\n",
      "annual_inc                             0\n",
      "issue_d                                0\n",
      "dti                                    0\n",
      "delinq_2yrs                            0\n",
      "earliest_cr_line                       0\n",
      "inq_last_6mths                         0\n",
      "open_acc                               0\n",
      "pub_rec                                0\n",
      "revol_bal                              0\n",
      "revol_util                             0\n",
      "total_acc                              0\n",
      "last_credit_pull_d                     0\n",
      "collections_12_mths_ex_med             0\n",
      "acc_now_delinq                         0\n",
      "tot_coll_amt                           0\n",
      "tot_cur_bal                            0\n",
      "default_ind                            0\n",
      "verification_status_Not Verified       0\n",
      "verification_status_Source Verified    0\n",
      "verification_status_Verified           0\n",
      "home_ownership_ANY                     0\n",
      "home_ownership_MORTGAGE                0\n",
      "home_ownership_NONE                    0\n",
      "home_ownership_OTHER                   0\n",
      "loan_amnt                              0\n",
      "dtype: int64\n"
     ]
    }
   ],
   "source": [
    "# Drop rows with missing values\n",
    "credit_data = credit_data.dropna()\n",
    "print(credit_data.isnull().sum().sort_values(ascending=False))"
   ]
  },
  {
   "cell_type": "code",
   "execution_count": 141,
   "metadata": {},
   "outputs": [
    {
     "name": "stdout",
     "output_type": "stream",
     "text": [
      "<class 'pandas.core.frame.DataFrame'>\n",
      "Int64Index: 855919 entries, 0 to 855968\n",
      "Data columns (total 32 columns):\n",
      " #   Column                               Non-Null Count   Dtype         \n",
      "---  ------                               --------------   -----         \n",
      " 0   loan_amnt                            855919 non-null  int64         \n",
      " 1   term                                 855919 non-null  float64       \n",
      " 2   int_rate                             855919 non-null  float64       \n",
      " 3   installment                          855919 non-null  float64       \n",
      " 4   grade                                855919 non-null  int64         \n",
      " 5   emp_length                           855919 non-null  float64       \n",
      " 6   annual_inc                           855919 non-null  float64       \n",
      " 7   issue_d                              855919 non-null  datetime64[ns]\n",
      " 8   dti                                  855919 non-null  float64       \n",
      " 9   delinq_2yrs                          855919 non-null  int64         \n",
      " 10  earliest_cr_line                     855919 non-null  datetime64[ns]\n",
      " 11  inq_last_6mths                       855919 non-null  int64         \n",
      " 12  open_acc                             855919 non-null  int64         \n",
      " 13  pub_rec                              855919 non-null  int64         \n",
      " 14  revol_bal                            855919 non-null  int64         \n",
      " 15  revol_util                           855919 non-null  float64       \n",
      " 16  total_acc                            855919 non-null  int64         \n",
      " 17  last_credit_pull_d                   855919 non-null  datetime64[ns]\n",
      " 18  collections_12_mths_ex_med           855919 non-null  float64       \n",
      " 19  acc_now_delinq                       855919 non-null  int64         \n",
      " 20  tot_coll_amt                         855919 non-null  float64       \n",
      " 21  tot_cur_bal                          855919 non-null  float64       \n",
      " 22  default_ind                          855919 non-null  int64         \n",
      " 23  verification_status_Not Verified     855919 non-null  uint8         \n",
      " 24  verification_status_Source Verified  855919 non-null  uint8         \n",
      " 25  verification_status_Verified         855919 non-null  uint8         \n",
      " 26  home_ownership_ANY                   855919 non-null  uint8         \n",
      " 27  home_ownership_MORTGAGE              855919 non-null  uint8         \n",
      " 28  home_ownership_NONE                  855919 non-null  uint8         \n",
      " 29  home_ownership_OTHER                 855919 non-null  uint8         \n",
      " 30  home_ownership_OWN                   855919 non-null  uint8         \n",
      " 31  home_ownership_RENT                  855919 non-null  uint8         \n",
      "dtypes: datetime64[ns](3), float64(10), int64(10), uint8(9)\n",
      "memory usage: 164.1 MB\n"
     ]
    }
   ],
   "source": [
    "credit_data.info()"
   ]
  },
  {
   "cell_type": "code",
   "execution_count": 142,
   "metadata": {},
   "outputs": [
    {
     "data": {
      "image/png": "[encoded data removed]",
      "text/plain": [
       "<Figure size 1440x1440 with 2 Axes>"
      ]
     },
     "metadata": {},
     "output_type": "display_data"
    }
   ],
   "source": [
    "# Heatmap on the correlations between features in the loan data\n",
    "credit_correlations = credit_data.corr()\n",
    "plt.figure(figsize=(20, 20,))\n",
    "plt.imshow(credit_correlations, cmap=None, interpolation='none', aspect='auto')\n",
    "plt.colorbar()\n",
    "plt.xticks(range(len(credit_correlations)), credit_correlations.columns, rotation='vertical')\n",
    "plt.yticks(range(len(credit_correlations)), credit_correlations.columns);\n",
    "plt.suptitle('Loan correlations Heat Map', fontsize=30, fontweight='bold')\n",
    "plt.show()"
   ]
  },
  {
   "cell_type": "markdown",
   "metadata": {},
   "source": [
    "Data preparation is finished and we can now start to apply machine learning algorithms in order to predict the credit risk."
   ]
  },
  {
   "cell_type": "markdown",
   "metadata": {},
   "source": [
    "It's usually better to visualize the data in some way. Visualization makes outliers and errors immediately stand out, whereas they might go unnoticed in a large table of numbers.\n",
    "As the dataset contains to many rows, first we need to get a subset of the original dataset in order to be possiblle to apply the supervised learning algorithms to test our model."
   ]
  },
  {
   "cell_type": "code",
   "execution_count": 143,
   "metadata": {},
   "outputs": [],
   "source": [
    "# get a subset of the original dataset (first 50000 rows)\n",
    "#credit_data_subset = credit_data[1:50001]\n",
    "#credit_data_subset.info()"
   ]
  },
  {
   "cell_type": "code",
   "execution_count": 144,
   "metadata": {},
   "outputs": [],
   "source": [
    "#from sklearn.neighbors import KNeighborsClassifier\n",
    "\n",
    "#sb.pairplot(credit_data_subset, hue='default_ind')"
   ]
  },
  {
   "cell_type": "code",
   "execution_count": null,
   "metadata": {},
   "outputs": [],
   "source": []
  },
  {
   "cell_type": "markdown",
   "metadata": {},
   "source": [
    "To advance to the data analysis we need to gather the test and the train samples. To do so we will import the function train_test_split from sklearn and use it on thecredit_data data."
   ]
  },
  {
   "cell_type": "code",
   "execution_count": 183,
   "metadata": {
    "scrolled": false
   },
   "outputs": [
    {
     "data": {
      "text/html": [
       "<div>\n",
       "<style scoped>\n",
       "    .dataframe tbody tr th:only-of-type {\n",
       "        vertical-align: middle;\n",
       "    }\n",
       "\n",
       "    .dataframe tbody tr th {\n",
       "        vertical-align: top;\n",
       "    }\n",
       "\n",
       "    .dataframe thead th {\n",
       "        text-align: right;\n",
       "    }\n",
       "</style>\n",
       "<table border=\"1\" class=\"dataframe\">\n",
       "  <thead>\n",
       "    <tr style=\"text-align: right;\">\n",
       "      <th></th>\n",
       "      <th>loan_amnt</th>\n",
       "      <th>term</th>\n",
       "      <th>int_rate</th>\n",
       "      <th>installment</th>\n",
       "      <th>grade</th>\n",
       "      <th>emp_length</th>\n",
       "      <th>annual_inc</th>\n",
       "      <th>dti</th>\n",
       "      <th>delinq_2yrs</th>\n",
       "      <th>inq_last_6mths</th>\n",
       "      <th>...</th>\n",
       "      <th>tot_cur_bal</th>\n",
       "      <th>verification_status_Not Verified</th>\n",
       "      <th>verification_status_Source Verified</th>\n",
       "      <th>verification_status_Verified</th>\n",
       "      <th>home_ownership_ANY</th>\n",
       "      <th>home_ownership_MORTGAGE</th>\n",
       "      <th>home_ownership_NONE</th>\n",
       "      <th>home_ownership_OTHER</th>\n",
       "      <th>home_ownership_OWN</th>\n",
       "      <th>home_ownership_RENT</th>\n",
       "    </tr>\n",
       "  </thead>\n",
       "  <tbody>\n",
       "    <tr>\n",
       "      <th>787611</th>\n",
       "      <td>26000</td>\n",
       "      <td>36.0</td>\n",
       "      <td>6.39</td>\n",
       "      <td>795.58</td>\n",
       "      <td>1</td>\n",
       "      <td>0.0</td>\n",
       "      <td>54636.0</td>\n",
       "      <td>19.90</td>\n",
       "      <td>0</td>\n",
       "      <td>0</td>\n",
       "      <td>...</td>\n",
       "      <td>60722.0</td>\n",
       "      <td>0</td>\n",
       "      <td>0</td>\n",
       "      <td>1</td>\n",
       "      <td>0</td>\n",
       "      <td>1</td>\n",
       "      <td>0</td>\n",
       "      <td>0</td>\n",
       "      <td>0</td>\n",
       "      <td>0</td>\n",
       "    </tr>\n",
       "    <tr>\n",
       "      <th>310278</th>\n",
       "      <td>8000</td>\n",
       "      <td>36.0</td>\n",
       "      <td>12.49</td>\n",
       "      <td>267.60</td>\n",
       "      <td>2</td>\n",
       "      <td>3.0</td>\n",
       "      <td>40000.0</td>\n",
       "      <td>15.66</td>\n",
       "      <td>0</td>\n",
       "      <td>0</td>\n",
       "      <td>...</td>\n",
       "      <td>218842.0</td>\n",
       "      <td>1</td>\n",
       "      <td>0</td>\n",
       "      <td>0</td>\n",
       "      <td>0</td>\n",
       "      <td>0</td>\n",
       "      <td>0</td>\n",
       "      <td>0</td>\n",
       "      <td>1</td>\n",
       "      <td>0</td>\n",
       "    </tr>\n",
       "    <tr>\n",
       "      <th>670837</th>\n",
       "      <td>11200</td>\n",
       "      <td>60.0</td>\n",
       "      <td>9.99</td>\n",
       "      <td>237.92</td>\n",
       "      <td>2</td>\n",
       "      <td>4.0</td>\n",
       "      <td>72000.0</td>\n",
       "      <td>12.03</td>\n",
       "      <td>0</td>\n",
       "      <td>1</td>\n",
       "      <td>...</td>\n",
       "      <td>16947.0</td>\n",
       "      <td>0</td>\n",
       "      <td>1</td>\n",
       "      <td>0</td>\n",
       "      <td>0</td>\n",
       "      <td>0</td>\n",
       "      <td>0</td>\n",
       "      <td>0</td>\n",
       "      <td>0</td>\n",
       "      <td>1</td>\n",
       "    </tr>\n",
       "    <tr>\n",
       "      <th>141069</th>\n",
       "      <td>18000</td>\n",
       "      <td>60.0</td>\n",
       "      <td>10.16</td>\n",
       "      <td>383.87</td>\n",
       "      <td>2</td>\n",
       "      <td>4.0</td>\n",
       "      <td>101000.0</td>\n",
       "      <td>13.09</td>\n",
       "      <td>0</td>\n",
       "      <td>...</td>\n",
       "      <td>557233.0</td>\n",
       "      <td>0</td>\n",
       "      <td>0</td>\n",
       "      <td>0</td>\n",
       "      <td>1</td>\n",
       "      <td>0</td>\n",
       "      <td>0</td>\n",
       "      <td>0</td>\n",
       "      <td>0</td>\n",
       "    </tr>\n",
       "    <tr>\n",
       "      <th>606074</th>\n",
       "      <td>8000</td>\n",
       "      <td>36.0</td>\n",
       "      <td>15.61</td>\n",
       "      <td>279.72</td>\n",
       "      <td>4</td>\n",
       "      <td>7.0</td>\n",
       "      <td>24000.0</td>\n",
       "      <td>22.80</td>\n",
       "      <td>0</td>\n",
       "      <td>0</td>\n",
       "      <td>...</td>\n",
       "      <td>8320.0</td>\n",
       "      <td>0</td>\n",
       "      <td>1</td>\n",
       "      <td>0</td>\n",
       "      <td>0</td>\n",
       "      <td>0</td>\n",
       "      <td>0</td>\n",
       "      <td>0</td>\n",
       "      <td>0</td>\n",
       "      <td>1</td>\n",
       "    </tr>\n",
       "    <tr>\n",
       "      <th>404604</th>\n",
       "      <td>5950</td>\n",
       "      <td>36.0</td>\n",
       "      <td>18.25</td>\n",
       "      <td>215.86</td>\n",
       "      <td>4</td>\n",
       "      <td>3.0</td>\n",
       "      <td>45000.0</td>\n",
       "      <td>18.99</td>\n",
       "      <td>1</td>\n",
       "      <td>1</td>\n",
       "      <td>...</td>\n",
       "      <td>246016.0</td>\n",
       "      <td>0</td>\n",
       "      <td>1</td>\n",
       "      <td>0</td>\n",
       "      <td>0</td>\n",
       "      <td>1</td>\n",
       "      <td>0</td>\n",
       "      <td>0</td>\n",
       "      <td>1</td>\n",
       "      <td>0</td>\n",
       "      <td>0</td>\n",
       "    </tr>\n",
       "    <tr>\n",
       "      <th>694050</th>\n",
       "      <td>14000</td>\n",
       "      <td>60.0</td>\n",
       "      <td>17.57</td>\n",
       "      <td>352.25</td>\n",
       "      <td>4</td>\n",
       "      <td>10.0</td>\n",
       "      <td>50394.5</td>\n",
       "      <td>24.86</td>\n",
       "      <td>0</td>\n",
       "      <td>0</td>\n",
       "      <td>...</td>\n",
       "      <td>41703.0</td>\n",
       "      <td>0</td>\n",
       "      <td>0</td>\n",
       "      <td>1</td>\n",
       "      <td>0</td>\n",
       "      <td>0</td>\n",
       "      <td>0</td>\n",
       "      <td>0</td>\n",
       "      <td>0</td>\n",
       "      <td>0</td>\n",
       "      <td>1</td>\n",
       "      <td>0</td>\n",
       "    </tr>\n",
       "    <tr>\n",
       "      <th>508691</th>\n",
       "      <td>30000</td>\n",
       "      <td>36.0</td>\n",
       "      <td>11.49</td>\n",
       "      <td>989.14</td>\n",
       "      <td>2</td>\n",
       "      <td>10.0</td>\n",
       "      <td>75000.0</td>\n",
       "      <td>22.70</td>\n",
       "      <td>0</td>\n",
       "      <td>0</td>\n",
       "      <td>...</td>\n",
       "      <td>57056.0</td>\n",
       "      <td>0</td>\n",
       "      <td>0</td>\n",
       "      <td>0</td>\n",
       "      <td>0</td>\n",
       "      <td>0</td>\n",
       "      <td>0</td>\n",
       "      <td>0</td>\n",
       "      <td>1</td>\n",
       "    </tr>\n",
       "    <tr>\n",
       "      <th>749286</th>\n",
       "      <td>16800</td>\n",
       "      <td>36.0</td>\n",
       "      <td>9.99</td>\n",
       "      <td>542.01</td>\n",
       "      <td>2</td>\n",
       "      <td>2.0</td>\n",
       "      <td>140000.0</td>\n",
       "      <td>22.35</td>\n",
       "      <td>1</td>\n",
       "      <td>0</td>\n",
       "      <td>...</td>\n",
       "      <td>319766.0</td>\n",
       "      <td>0</td>\n",
       "      <td>1</td>\n",
       "      <td>0</td>\n",
       "      <td>0</td>\n",
       "      <td>0</td>\n",
       "      <td>0</td>\n",
       "      <td>0</td>\n",
       "      <td>0</td>\n",
       "      <td>1</td>\n",
       "    </tr>\n",
       "    <tr>\n",
       "      <th>359360</th>\n",
       "      <td>12000</td>\n",
       "      <td>36.0</td>\n",
       "      <td>10.99</td>\n",
       "      <td>392.81</td>\n",
       "      <td>2</td>\n",
       "      <td>10.0</td>\n",
       "      <td>104101.0</td>\n",
       "      <td>18.31</td>\n",
       "      <td>3</td>\n",
       "      <td>0</td>\n",
       "      <td>...</td>\n",
       "      <td>641278.0</td>\n",
       "      <td>0</td>\n",
       "      <td>1</td>\n",
       "      <td>0</td>\n",
       "      <td>0</td>\n",
       "      <td>1</td>\n",
       "      <td>0</td>\n",
       "      <td>0</td>\n",
       "      <td>0</td>\n",
       "      <td>0</td>\n",
       "    </tr>\n",
       "  </tbody>\n",
       "</table>\n",
       "<p>10 rows × 28 columns</p>\n",
       "</div>"
      ],
      "text/plain": [
       "        loan_amnt  term  int_rate  installment  grade  emp_length  annual_inc  \\\n",
       "787611      26000  36.0      6.39       795.58      1         0.0     54636.0   \n",
       "310278       8000  36.0     12.49       267.60      2         3.0     40000.0   \n",
       "670837      11200  60.0      9.99       237.92      2         4.0     72000.0   \n",
       "141069      18000  60.0     10.16       383.87      2         4.0    101000.0   \n",
       "606074       8000  36.0     15.61       279.72      4         7.0     24000.0   \n",
       "404604       5950  36.0     18.25       215.86      4         3.0     45000.0   \n",
       "694050      14000  60.0     17.57       352.25      4        10.0     50394.5   \n",
       "508691      30000  36.0     11.49       989.14      2        10.0     75000.0   \n",
       "749286      16800  36.0      9.99       542.01      2         2.0    140000.0   \n",
       "359360      12000  36.0     10.99       392.81      2        10.0    104101.0   \n",
       "\n",
       "          dti  delinq_2yrs  inq_last_6mths  ...  tot_cur_bal  \\\n",
       "787611  19.90            0               0  ...      60722.0   \n",
       "310278  15.66            0               0  ...     218842.0   \n",
       "670837  12.03            0               0  ...      16947.0   \n",
       "141069  13.09            0               0  ...     557233.0   \n",
       "606074  22.80            0               0  ...       8320.0   \n",
       "404604  18.99            1               1  ...     246016.0   \n",
       "694050  24.86            0               0  ...      41703.0   \n",
       "508691  22.70            0               0  ...      57056.0   \n",
       "749286  22.35            1               0  ...     319766.0   \n",
       "359360  18.31            3               0  ...     641278.0   \n",
       "\n",
       "        verification_status_Not Verified  verification_status_Source Verified  \\\n",
       "787611                                 0                                    0   \n",
       "310278                                 1                                    0   \n",
       "670837                                 0                                    1   \n",
       "141069                                 0                                    0   \n",
       "606074                                 0                                    1   \n",
       "404604                                 0                                    1   \n",
       "694050                                 0                                    0   \n",
       "508691                                 0                                    0   \n",
       "749286                                 0                                    1   \n",
       "359360                                 0                                    1   \n",
       "\n",
       "        verification_status_Verified  home_ownership_ANY  \\\n",
       "787611                             1                   0   \n",
       "310278                             0                   0   \n",
       "670837                             0                   0   \n",
       "141069                             1                   0   \n",
       "606074                             0                   0   \n",
       "404604                             0                   0   \n",
       "694050                             1                   0   \n",
       "508691                             1                   0   \n",
       "749286                             0                   0   \n",
       "359360                             0                   0   \n",
       "\n",
       "        home_ownership_MORTGAGE  home_ownership_NONE  home_ownership_OTHER  \\\n",
       "787611                        1                    0                     0   \n",
       "310278                        0                    0                     0   \n",
       "670837                        0                    0                     0   \n",
       "141069                        1                    0                     0   \n",
       "606074                        0                    0                     0   \n",
       "404604                        1                    0                     0   \n",
       "694050                        0                    0                     0   \n",
       "508691                        0                    0                     0   \n",
       "749286                        1                    0                     0   \n",
       "359360                        1                    0                     0   \n",
       "\n",
       "        home_ownership_OWN  home_ownership_RENT  \n",
       "787611                   0                    0  \n",
       "310278                   1                    0  \n",
       "670837                   0                    1  \n",
       "141069                   0                    0  \n",
       "606074                   0                    1  \n",
       "404604                   0                    0  \n",
       "694050                   0                    1  \n",
       "508691                   0                    1  \n",
       "749286                   0                    0  \n",
       "359360                   0                    0  \n",
       "\n",
       "[10 rows x 28 columns]"
      ]
     },
     "execution_count": 183,
     "metadata": {},
     "output_type": "execute_result"
    }
   ],
   "source": [
    "from sklearn import neighbors, datasets, preprocessing\n",
    "from sklearn.model_selection import train_test_split\n",
    "from sklearn.metrics import accuracy_score\n",
    "\n",
    "X, y = credit_data[credit_data.columns.drop(['default_ind', 'issue_d', 'earliest_cr_line', 'last_credit_pull_d'])], credit_data['default_ind']\n",
    "    \n",
    "X_train, X_test, y_train, y_test = train_test_split(X, y, train_size = 0.05, test_size=0.005, random_state=1)\n",
    "\n",
    "X_test.head(10)"
   ]
  },
  {
   "cell_type": "markdown",
   "metadata": {},
   "source": [
    "This way, the test sample will have results with a size corresponding to 1% of the total data."
   ]
  },
  {
   "cell_type": "code",
   "execution_count": 146,
   "metadata": {},
   "outputs": [
    {
     "name": "stdout",
     "output_type": "stream",
     "text": [
      "<class 'pandas.core.frame.DataFrame'>\n",
      "Int64Index: 42795 entries, 546983 to 413202\n",
      "Data columns (total 28 columns):\n",
      " #   Column                               Non-Null Count  Dtype  \n",
      "---  ------                               --------------  -----  \n",
      " 0   loan_amnt                            42795 non-null  int64  \n",
      " 1   term                                 42795 non-null  float64\n",
      " 2   int_rate                             42795 non-null  float64\n",
      " 3   installment                          42795 non-null  float64\n",
      " 4   grade                                42795 non-null  int64  \n",
      " 5   emp_length                           42795 non-null  float64\n",
      " 6   annual_inc                           42795 non-null  float64\n",
      " 7   dti                                  42795 non-null  float64\n",
      " 8   delinq_2yrs                          42795 non-null  int64  \n",
      " 9   inq_last_6mths                       42795 non-null  int64  \n",
      " 10  open_acc                             42795 non-null  int64  \n",
      " 11  pub_rec                              42795 non-null  int64  \n",
      " 12  revol_bal                            42795 non-null  int64  \n",
      " 13  revol_util                           42795 non-null  float64\n",
      " 14  total_acc                            42795 non-null  int64  \n",
      " 15  collections_12_mths_ex_med           42795 non-null  float64\n",
      " 16  acc_now_delinq                       42795 non-null  int64  \n",
      " 17  tot_coll_amt                         42795 non-null  float64\n",
      " 18  tot_cur_bal                          42795 non-null  float64\n",
      " 19  verification_status_Not Verified     42795 non-null  uint8  \n",
      " 20  verification_status_Source Verified  42795 non-null  uint8  \n",
      " 21  verification_status_Verified         42795 non-null  uint8  \n",
      " 22  home_ownership_ANY                   42795 non-null  uint8  \n",
      " 23  home_ownership_MORTGAGE              42795 non-null  uint8  \n",
      " 24  home_ownership_NONE                  42795 non-null  uint8  \n",
      " 25  home_ownership_OTHER                 42795 non-null  uint8  \n",
      " 26  home_ownership_OWN                   42795 non-null  uint8  \n",
      " 27  home_ownership_RENT                  42795 non-null  uint8  \n",
      "dtypes: float64(10), int64(9), uint8(9)\n",
      "memory usage: 6.9 MB\n",
      "<class 'pandas.core.frame.DataFrame'>\n",
      "Int64Index: 4280 entries, 606328 to 20821\n",
      "Data columns (total 28 columns):\n",
      " #   Column                               Non-Null Count  Dtype  \n",
      "---  ------                               --------------  -----  \n",
      " 0   loan_amnt                            4280 non-null   int64  \n",
      " 1   term                                 4280 non-null   float64\n",
      " 2   int_rate                             4280 non-null   float64\n",
      " 3   installment                          4280 non-null   float64\n",
      " 4   grade                                4280 non-null   int64  \n",
      " 5   emp_length                           4280 non-null   float64\n",
      " 6   annual_inc                           4280 non-null   float64\n",
      " 7   dti                                  4280 non-null   float64\n",
      " 8   delinq_2yrs                          4280 non-null   int64  \n",
      " 9   inq_last_6mths                       4280 non-null   int64  \n",
      " 10  open_acc                             4280 non-null   int64  \n",
      " 11  pub_rec                              4280 non-null   int64  \n",
      " 12  revol_bal                            4280 non-null   int64  \n",
      " 13  revol_util                           4280 non-null   float64\n",
      " 14  total_acc                            4280 non-null   int64  \n",
      " 15  collections_12_mths_ex_med           4280 non-null   float64\n",
      " 16  acc_now_delinq                       4280 non-null   int64  \n",
      " 17  tot_coll_amt                         4280 non-null   float64\n",
      " 18  tot_cur_bal                          4280 non-null   float64\n",
      " 19  verification_status_Not Verified     4280 non-null   uint8  \n",
      " 20  verification_status_Source Verified  4280 non-null   uint8  \n",
      " 21  verification_status_Verified         4280 non-null   uint8  \n",
      " 22  home_ownership_ANY                   4280 non-null   uint8  \n",
      " 23  home_ownership_MORTGAGE              4280 non-null   uint8  \n",
      " 24  home_ownership_NONE                  4280 non-null   uint8  \n",
      " 25  home_ownership_OTHER                 4280 non-null   uint8  \n",
      " 26  home_ownership_OWN                   4280 non-null   uint8  \n",
      " 27  home_ownership_RENT                  4280 non-null   uint8  \n",
      "dtypes: float64(10), int64(9), uint8(9)\n",
      "memory usage: 706.4 KB\n"
     ]
    }
   ],
   "source": [
    "X_train.info()\n",
    "X_test.info()"
   ]
  },
  {
   "cell_type": "code",
   "execution_count": 147,
   "metadata": {},
   "outputs": [
    {
     "data": {
      "text/plain": [
       "0.8983644859813084"
      ]
     },
     "execution_count": 147,
     "metadata": {},
     "output_type": "execute_result"
    }
   ],
   "source": [
    "from sklearn.tree import DecisionTreeClassifier\n",
    "\n",
    "# Create the classifier\n",
    "decision_tree_classifier = DecisionTreeClassifier()\n",
    "\n",
    "# Train the classifier on the training set\n",
    "decision_tree_classifier.fit(X_train, y_train)\n",
    "\n",
    "# Validate the classifier on the testing set using classification accuracy\n",
    "decision_tree_classifier.score(X_test, y_test)"
   ]
  },
  {
   "cell_type": "markdown",
   "metadata": {},
   "source": [
    "We have achieved an accuracy of 89%. But let's see how this accuracy varies depending on how our training and testing set was sampled."
   ]
  },
  {
   "cell_type": "code",
   "execution_count": 148,
   "metadata": {},
   "outputs": [
    {
     "data": {
      "text/plain": [
       "''"
      ]
     },
     "execution_count": 148,
     "metadata": {},
     "output_type": "execute_result"
    },
    {
     "data": {
      "image/png": "[encoded data removed]",
      "text/plain": [
       "<Figure size 432x288 with 1 Axes>"
      ]
     },
     "metadata": {},
     "output_type": "display_data"
    }
   ],
   "source": [
    "model_accuracies = []\n",
    "\n",
    "for repetition in range(100):\n",
    "    X_train, X_test, y_train, y_test = train_test_split(X, y, train_size = 0.05, test_size=0.005)\n",
    "    \n",
    "    decision_tree_classifier = DecisionTreeClassifier()\n",
    "    decision_tree_classifier.fit(X_train, y_train)\n",
    "    classifier_accuracy = decision_tree_classifier.score(X_test, y_test)\n",
    "    model_accuracies.append(classifier_accuracy)\n",
    "    \n",
    "plt.hist(model_accuracies)\n",
    ";"
   ]
  },
  {
   "cell_type": "code",
   "execution_count": 149,
   "metadata": {},
   "outputs": [
    {
     "name": "stdout",
     "output_type": "stream",
     "text": [
      "Min:  0.8827102803738318\n",
      "Max:  0.9114485981308411\n"
     ]
    }
   ],
   "source": [
    "print(\"Min: \", min(model_accuracies))\n",
    "print(\"Max: \", max(model_accuracies))"
   ]
  },
  {
   "cell_type": "code",
   "execution_count": 150,
   "metadata": {},
   "outputs": [
    {
     "data": {
      "text/plain": [
       "0.9373831775700935"
      ]
     },
     "execution_count": 150,
     "metadata": {},
     "output_type": "execute_result"
    }
   ],
   "source": [
    "X, y = credit_data[credit_data.columns.drop(['grade', 'issue_d', 'earliest_cr_line', 'last_credit_pull_d'])], credit_data['grade']\n",
    "X_train, X_test, y_train, y_test = train_test_split(X, y, train_size = 0.05, test_size=0.005, random_state=1)\n",
    "\n",
    "# Create the classifier\n",
    "decision_tree_classifier = DecisionTreeClassifier()\n",
    "\n",
    "# Train the classifier on the training set\n",
    "decision_tree_classifier.fit(X_train, y_train)\n",
    "\n",
    "# Validate the classifier on the testing set using classification accuracy\n",
    "decision_tree_classifier.score(X_test, y_test)"
   ]
  },
  {
   "cell_type": "code",
   "execution_count": 151,
   "metadata": {},
   "outputs": [
    {
     "data": {
      "text/plain": [
       "''"
      ]
     },
     "execution_count": 151,
     "metadata": {},
     "output_type": "execute_result"
    },
    {
     "data": {
      "image/png": "[encoded data removed]",
      "text/plain": [
       "<Figure size 432x288 with 1 Axes>"
      ]
     },
     "metadata": {},
     "output_type": "display_data"
    }
   ],
   "source": [
    "model_accuracies = []\n",
    "\n",
    "for repetition in range(100):\n",
    "    X_train, X_test, y_train, y_test = train_test_split(X, y, train_size = 0.05, test_size=0.005)\n",
    "    \n",
    "    decision_tree_classifier = DecisionTreeClassifier()\n",
    "    decision_tree_classifier.fit(X_train, y_train)\n",
    "    classifier_accuracy = decision_tree_classifier.score(X_test, y_test)\n",
    "    model_accuracies.append(classifier_accuracy)\n",
    "    \n",
    "plt.hist(model_accuracies)\n",
    ";"
   ]
  },
  {
   "cell_type": "code",
   "execution_count": 152,
   "metadata": {},
   "outputs": [
    {
     "name": "stdout",
     "output_type": "stream",
     "text": [
      "Min:  0.9324766355140187\n",
      "Max:  0.9488317757009346\n"
     ]
    }
   ],
   "source": [
    "print(\"Min: \", min(model_accuracies))\n",
    "print(\"Max: \", max(model_accuracies))"
   ]
  },
  {
   "cell_type": "markdown",
   "metadata": {},
   "source": [
    "Another algorithm that can be used to predict the results is the Neuronal Networks (ANN)."
   ]
  },
  {
   "cell_type": "code",
   "execution_count": 153,
   "metadata": {},
   "outputs": [],
   "source": [
    "from sklearn.neural_network import MLPClassifier\n",
    "from sklearn.datasets import make_classification\n",
    "from sklearn.preprocessing import StandardScaler\n",
    "from sklearn.metrics import classification_report,confusion_matrix"
   ]
  },
  {
   "cell_type": "code",
   "execution_count": 154,
   "metadata": {},
   "outputs": [],
   "source": [
    "credit_data_subset = credit_data.sample(frac=0.10)\n",
    "X = credit_data_subset[credit_data_subset.columns.drop(['grade', 'issue_d', 'earliest_cr_line', 'last_credit_pull_d'])] \n",
    "y = credit_data_subset['grade']"
   ]
  },
  {
   "cell_type": "code",
   "execution_count": 187,
   "metadata": {},
   "outputs": [
    {
     "name": "stdout",
     "output_type": "stream",
     "text": [
      "Best score: 0.9451701111471446\n",
      "Best parameters: {'max_depth': 1, 'max_features': 1}\n"
     ]
    }
   ],
   "source": [
    "# get a test dataset with 10% of the credit_data_subset\n",
    "X_train, X_test, y_train, y_test = train_test_split(X, y, test_size=0.2, random_state=1)\n",
    "\n",
    "scaler = StandardScaler()\n",
    "\n",
    "# Fit only to the training data\n",
    "scaler.fit(X_train)\n",
    "\n",
    "# Now apply the transformations to the data:\n",
    "X_train = scaler.transform(X_train)\n",
    "X_test = scaler.transform(X_test)"
   ]
  },
  {
   "cell_type": "code",
   "execution_count": 156,
   "metadata": {},
   "outputs": [
    {
     "data": {
      "text/plain": [
       "MLPClassifier(max_iter=500, random_state=1)"
      ]
     },
     "execution_count": 156,
     "metadata": {},
     "output_type": "execute_result"
    }
   ],
   "source": [
    "# Create the classifier\n",
    "ANNClassifier = MLPClassifier(random_state=1, max_iter=500)\n",
    "\n",
    "# Train the classifier on the training set\n",
    "ANNClassifier.fit(X_train, y_train)"
   ]
  },
  {
   "cell_type": "code",
   "execution_count": 157,
   "metadata": {},
   "outputs": [
    {
     "name": "stdout",
     "output_type": "stream",
     "text": [
      "[[2725  247    0    1    1    0    0]\n",
      " [ 325 3962  630    0    0    0    0]\n",
      " [   1  240 4061  356    0    0    0]\n",
      " [   0    1  244 2211  227    0    0]\n",
      " [   0    0    5  276 1037   80    1]\n",
      " [   0    0    0    6   62  311   18]\n",
      " [   0    0    0    1    3   34   53]]\n"
     ]
    }
   ],
   "source": [
    "predictions = ANNClassifier.predict(X_test)\n",
    "\n",
    "confusion_matrix_ann = confusion_matrix(y_test,predictions)\n",
    "print(confusion_matrix_ann)"
   ]
  },
  {
   "cell_type": "code",
   "execution_count": 158,
   "metadata": {},
   "outputs": [
    {
     "name": "stdout",
     "output_type": "stream",
     "text": [
      "              precision    recall  f1-score   support\n",
      "\n",
      "           1       0.89      0.92      0.90      2974\n",
      "           2       0.89      0.81      0.85      4917\n",
      "           3       0.82      0.87      0.85      4658\n",
      "           4       0.78      0.82      0.80      2683\n",
      "           5       0.78      0.74      0.76      1399\n",
      "           6       0.73      0.78      0.76       397\n",
      "           7       0.74      0.58      0.65        91\n",
      "\n",
      "    accuracy                           0.84     17119\n",
      "   macro avg       0.80      0.79      0.79     17119\n",
      "weighted avg       0.84      0.84      0.84     17119\n",
      "\n"
     ]
    }
   ],
   "source": [
    "print(classification_report(y_test,predictions))"
   ]
  },
  {
   "cell_type": "code",
   "execution_count": 159,
   "metadata": {},
   "outputs": [
    {
     "data": {
      "image/png": "[encoded data removed]",
      "text/plain": [
       "<Figure size 432x288 with 2 Axes>"
      ]
     },
     "metadata": {},
     "output_type": "display_data"
    }
   ],
   "source": [
    "sn.set(font_scale=1.0)\n",
    "\n",
    "ax = plt.subplot()\n",
    "\n",
    "sn.heatmap(confusion_matrix_ann, annot=True, ax=ax, fmt=\"g\")\n",
    "\n",
    "ax.set_xlabel('Predicted Grades');\n",
    "ax.set_ylabel('Observed Grades');\n",
    "ax.set_title('Confusion Matrix');\n",
    "plt.show()"
   ]
  },
  {
   "cell_type": "code",
   "execution_count": 160,
   "metadata": {},
   "outputs": [
    {
     "data": {
      "text/plain": [
       "0.8388340440446288"
      ]
     },
     "execution_count": 160,
     "metadata": {},
     "output_type": "execute_result"
    }
   ],
   "source": [
    "ANNClassifier.score(X_test, y_test)"
   ]
  },
  {
   "cell_type": "code",
   "execution_count": 161,
   "metadata": {},
   "outputs": [
    {
     "name": "stderr",
     "output_type": "stream",
     "text": [
      "C:\\Anaconda\\lib\\site-packages\\sklearn\\neural_network\\_multilayer_perceptron.py:585: ConvergenceWarning: Stochastic Optimizer: Maximum iterations (500) reached and the optimization hasn't converged yet.\n",
      "  % self.max_iter, ConvergenceWarning)\n",
      "C:\\Anaconda\\lib\\site-packages\\sklearn\\neural_network\\_multilayer_perceptron.py:585: ConvergenceWarning: Stochastic Optimizer: Maximum iterations (500) reached and the optimization hasn't converged yet.\n",
      "  % self.max_iter, ConvergenceWarning)\n",
      "C:\\Anaconda\\lib\\site-packages\\sklearn\\neural_network\\_multilayer_perceptron.py:585: ConvergenceWarning: Stochastic Optimizer: Maximum iterations (500) reached and the optimization hasn't converged yet.\n",
      "  % self.max_iter, ConvergenceWarning)\n",
      "C:\\Anaconda\\lib\\site-packages\\sklearn\\neural_network\\_multilayer_perceptron.py:585: ConvergenceWarning: Stochastic Optimizer: Maximum iterations (500) reached and the optimization hasn't converged yet.\n",
      "  % self.max_iter, ConvergenceWarning)\n",
      "C:\\Anaconda\\lib\\site-packages\\sklearn\\neural_network\\_multilayer_perceptron.py:585: ConvergenceWarning: Stochastic Optimizer: Maximum iterations (500) reached and the optimization hasn't converged yet.\n",
      "  % self.max_iter, ConvergenceWarning)\n",
      "C:\\Anaconda\\lib\\site-packages\\sklearn\\neural_network\\_multilayer_perceptron.py:585: ConvergenceWarning: Stochastic Optimizer: Maximum iterations (500) reached and the optimization hasn't converged yet.\n",
      "  % self.max_iter, ConvergenceWarning)\n",
      "C:\\Anaconda\\lib\\site-packages\\sklearn\\neural_network\\_multilayer_perceptron.py:585: ConvergenceWarning: Stochastic Optimizer: Maximum iterations (500) reached and the optimization hasn't converged yet.\n",
      "  % self.max_iter, ConvergenceWarning)\n",
      "C:\\Anaconda\\lib\\site-packages\\sklearn\\neural_network\\_multilayer_perceptron.py:585: ConvergenceWarning: Stochastic Optimizer: Maximum iterations (500) reached and the optimization hasn't converged yet.\n",
      "  % self.max_iter, ConvergenceWarning)\n",
      "C:\\Anaconda\\lib\\site-packages\\sklearn\\neural_network\\_multilayer_perceptron.py:585: ConvergenceWarning: Stochastic Optimizer: Maximum iterations (500) reached and the optimization hasn't converged yet.\n",
      "  % self.max_iter, ConvergenceWarning)\n",
      "C:\\Anaconda\\lib\\site-packages\\sklearn\\neural_network\\_multilayer_perceptron.py:585: ConvergenceWarning: Stochastic Optimizer: Maximum iterations (500) reached and the optimization hasn't converged yet.\n",
      "  % self.max_iter, ConvergenceWarning)\n"
     ]
    },
    {
     "data": {
      "text/plain": [
       "''"
      ]
     },
     "execution_count": 161,
     "metadata": {},
     "output_type": "execute_result"
    },
    {
     "data": {
      "image/png": "[encoded data removed]",
      "text/plain": [
       "<Figure size 432x288 with 1 Axes>"
      ]
     },
     "metadata": {},
     "output_type": "display_data"
    }
   ],
   "source": [
    "model_accuracies = []\n",
    "\n",
    "for repetition in range(10):\n",
    "    X_train, X_test, y_train, y_test = train_test_split(X, y, test_size=0.2, random_state=1)\n",
    "    \n",
    "    scaler = StandardScaler()\n",
    "\n",
    "    # Fit only to the training data\n",
    "    scaler.fit(X_train)\n",
    "\n",
    "    # Now apply the transformations to the data:\n",
    "    X_train = scaler.transform(X_train)\n",
    "    X_test = scaler.transform(X_test)\n",
    "    \n",
    "    ANNClassifier = MLPClassifier(random_state=1, max_iter=500)\n",
    "\n",
    "    # Train the classifier on the training set\n",
    "    ANNClassifier.fit(X_train, y_train)\n",
    "    classifier_accuracy = ANNClassifier.score(X_test, y_test)\n",
    "    model_accuracies.append(classifier_accuracy)    \n",
    "    \n",
    "plt.hist(model_accuracies)\n",
    ";"
   ]
  },
  {
   "cell_type": "code",
   "execution_count": 162,
   "metadata": {},
   "outputs": [
    {
     "name": "stdout",
     "output_type": "stream",
     "text": [
      "Min:  0.7336448598130841\n",
      "Max:  0.8177570093457944\n"
     ]
    }
   ],
   "source": [
    "print(\"Min: \", min(model_accuracies))\n",
    "print(\"Max: \", max(model_accuracies))"
   ]
  },
  {
   "cell_type": "markdown",
   "metadata": {},
   "source": [
    "When using KNN on this data set with the selected features, we achieve the best accuracy when k=8, when the accuracy is 94.26%."
   ]
  },
  {
   "cell_type": "markdown",
   "metadata": {},
   "source": [
    "### 5.3 Neuronal Networks ANN\n",
    "\n",
    "[[ go back to the top ]](#Table-of-contents)\n",
    "\n",
    "Neural networks, also known as artificial neural networks (ANNs), are a subset of machine learning and are at the heart of deep learning algorithms. Their name and structure are inspired by the human brain, mirroring the way that organic neurons flag to one another.\n",
    "Artificial neural networks (ANNs) are comprised of a node layers, containing an input layer, one or more hidden layers, and an output layer. Each node, or artificial neuron, interfaces to another and has an related weight and limit. If the output of any individual node is above the specified threshold value, that node is activated, sending data to the next layer of the network. Otherwise, no information is passed along to the following layer of the network."
   ]
  },
  {
   "cell_type": "code",
   "execution_count": 215,
   "metadata": {},
   "outputs": [],
   "source": [
    "from sklearn.neural_network import MLPClassifier\n",
    "from sklearn.datasets import make_classification\n",
    "from sklearn.preprocessing import StandardScaler\n",
    "from sklearn.metrics import classification_report,confusion_matrix\n",
    "\n",
    "credit_data_subset = credit_data.sample(frac=0.10)\n",
    "X = credit_data_subset[credit_data_subset.columns.drop(['grade', 'issue_d', 'earliest_cr_line', 'last_credit_pull_d'])] \n",
    "y = credit_data_subset['grade']"
   ]
  },
  {
   "cell_type": "code",
   "execution_count": 220,
   "metadata": {},
   "outputs": [],
   "source": [
    "# get a test dataset with 10% of the credit_data_subset\n",
    "X_train, X_test, y_train, y_test = train_test_split(X, y, test_size=0.2, random_state=1)\n",
    "\n",
    "scaler = StandardScaler()\n",
    "\n",
    "# Fit only to the training data\n",
    "scaler.fit(X_train)\n",
    "\n",
    "\n",
    "# Now apply the transformations to the data:\n",
    "X_train = scaler.transform(X_train)\n",
    "X_test = scaler.transform(X_test)"
   ]
  },
  {
   "cell_type": "code",
   "execution_count": 221,
   "metadata": {},
   "outputs": [
    {
     "data": {
      "text/plain": [
       "MLPClassifier(hidden_layer_sizes=(20, 20, 20), max_iter=500, random_state=1)"
      ]
     },
     "execution_count": 221,
     "metadata": {},
     "output_type": "execute_result"
    }
   ],
   "source": [
    "# Create the classifier\n",
    "ANNClassifier = MLPClassifier(random_state=1, max_iter=500, hidden_layer_sizes=(20,20,20))\n",
    "\n",
    "# Train the classifier on the training set\n",
    "ANNClassifier.fit(X_train, y_train)"
   ]
  },
  {
   "cell_type": "code",
   "execution_count": 222,
   "metadata": {},
   "outputs": [
    {
     "name": "stdout",
     "output_type": "stream",
     "text": [
      "[[2728  140    0    0    0    0    0]\n",
      " [ 131 4150  642    0    0    0    0]\n",
      " [   1  270 4039  473    0    0    0]\n",
      " [   1    1  149 2279  280    0    0]\n",
      " [   0    0    3  200 1081   32    0]\n",
      " [   0    0    0    8   51  328   36]\n",
      " [   0    0    0    1    5   14   76]]\n"
     ]
    }
   ],
   "source": [
    "predictions = ANNClassifier.predict(X_test)\n",
    "\n",
    "confusion_matrix_ann = confusion_matrix(y_test,predictions)\n",
    "print(confusion_matrix_ann)"
   ]
  },
  {
   "cell_type": "code",
   "execution_count": 223,
   "metadata": {},
   "outputs": [
    {
     "name": "stdout",
     "output_type": "stream",
     "text": [
      "              precision    recall  f1-score   support\n",
      "\n",
      "           1       0.95      0.95      0.95      2868\n",
      "           2       0.91      0.84      0.88      4923\n",
      "           3       0.84      0.84      0.84      4783\n",
      "           4       0.77      0.84      0.80      2710\n",
      "           5       0.76      0.82      0.79      1316\n",
      "           6       0.88      0.78      0.82       423\n",
      "           7       0.68      0.79      0.73        96\n",
      "\n",
      "    accuracy                           0.86     17119\n",
      "   macro avg       0.83      0.84      0.83     17119\n",
      "weighted avg       0.86      0.86      0.86     17119\n",
      "\n"
     ]
    }
   ],
   "source": [
    "print(classification_report(y_test,predictions))"
   ]
  },
  {
   "cell_type": "code",
   "execution_count": 174,
   "metadata": {},
   "outputs": [
    {
     "data": {
      "image/png": "[encoded data removed]",
      "text/plain": [
       "<Figure size 432x288 with 2 Axes>"
      ]
     },
     "metadata": {},
     "output_type": "display_data"
    },
    {
     "data": {
      "text/plain": [
       "0.8369647759799054"
      ]
     },
     "execution_count": 174,
     "metadata": {},
     "output_type": "execute_result"
    }
   ],
   "source": [
    "sn.set(font_scale=1.0)\n",
    "\n",
    "ax = plt.subplot()\n",
    "\n",
    "sn.heatmap(confusion_matrix_ann, annot=True, ax=ax, fmt=\"g\")\n",
    "\n",
    "ax.set_xlabel('Predicted Grades');\n",
    "ax.set_ylabel('Observed Grades');\n",
    "ax.set_title('Confusion Matrix');\n",
    "plt.show()\n",
    "\n",
    "ANNClassifier.score(X_test, y_test)"
   ]
  },
  {
   "cell_type": "markdown",
   "metadata": {},
   "source": [
    "Using the Neural Network algorithm we have achieved an accuracy of aproximately 84%."
   ]
  },
  {
   "cell_type": "code",
   "execution_count": null,
   "metadata": {},
   "outputs": [
    {
     "name": "stderr",
     "output_type": "stream",
     "text": [
      "C:\\Anaconda\\lib\\site-packages\\sklearn\\neural_network\\_multilayer_perceptron.py:585: ConvergenceWarning: Stochastic Optimizer: Maximum iterations (500) reached and the optimization hasn't converged yet.\n",
      "  % self.max_iter, ConvergenceWarning)\n",
      "C:\\Anaconda\\lib\\site-packages\\sklearn\\neural_network\\_multilayer_perceptron.py:585: ConvergenceWarning: Stochastic Optimizer: Maximum iterations (500) reached and the optimization hasn't converged yet.\n",
      "  % self.max_iter, ConvergenceWarning)\n",
      "C:\\Anaconda\\lib\\site-packages\\sklearn\\neural_network\\_multilayer_perceptron.py:585: ConvergenceWarning: Stochastic Optimizer: Maximum iterations (500) reached and the optimization hasn't converged yet.\n",
      "  % self.max_iter, ConvergenceWarning)\n",
      "C:\\Anaconda\\lib\\site-packages\\sklearn\\neural_network\\_multilayer_perceptron.py:585: ConvergenceWarning: Stochastic Optimizer: Maximum iterations (500) reached and the optimization hasn't converged yet.\n",
      "  % self.max_iter, ConvergenceWarning)\n",
      "C:\\Anaconda\\lib\\site-packages\\sklearn\\neural_network\\_multilayer_perceptron.py:585: ConvergenceWarning: Stochastic Optimizer: Maximum iterations (500) reached and the optimization hasn't converged yet.\n",
      "  % self.max_iter, ConvergenceWarning)\n",
      "C:\\Anaconda\\lib\\site-packages\\sklearn\\neural_network\\_multilayer_perceptron.py:585: ConvergenceWarning: Stochastic Optimizer: Maximum iterations (500) reached and the optimization hasn't converged yet.\n",
      "  % self.max_iter, ConvergenceWarning)\n"
     ]
    }
   ],
   "source": [
    "parameter_grid = {\n",
    "    'hidden_layer_sizes': [(50,50,50), (50,100,50), (100,)],\n",
    "    'activation': ['tanh', 'relu'],\n",
    "    'solver': ['sgd', 'adam'],\n",
    "    'alpha': [0.0001, 0.05],\n",
    "    'learning_rate': ['constant','adaptive'],\n",
    "}\n",
    "\n",
    "cross_validation = StratifiedKFold(n_splits=10, shuffle=True)\n",
    "\n",
    "grid_search = GridSearchCV(ANNClassifier,\n",
    "                           param_grid=parameter_grid,\n",
    "                           cv=cross_validation)\n",
    "\n",
    "grid_search.fit(X_train, y_train)"
   ]
  },
  {
   "cell_type": "code",
   "execution_count": 228,
   "metadata": {},
   "outputs": [
    {
     "name": "stdout",
     "output_type": "stream",
     "text": [
      "Best score: 0.8813252704472523\n",
      "Best parameters: {'activation': 'tanh', 'hidden_layer_sizes': (3, 5, 8, 13, 21, 34), 'solver': 'adam', 'verbose': True}\n"
     ]
    }
   ],
   "source": [
    "print('Best score: {}'.format(grid_search.best_score_))\n",
    "print('Best parameters: {}'.format(grid_search.best_params_))"
   ]
  },
  {
   "cell_type": "code",
   "execution_count": null,
   "metadata": {},
   "outputs": [],
   "source": []
  },
  {
   "cell_type": "markdown",
   "metadata": {},
   "source": []
  }
 ],
 "metadata": {
  "kernelspec": {
   "display_name": "Python 3",
   "language": "python",
   "name": "python3"
  }
 },
 "nbformat": 4,
 "nbformat_minor": 2
}
